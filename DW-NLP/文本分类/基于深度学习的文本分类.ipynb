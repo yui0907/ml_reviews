{
 "cells": [
  {
   "cell_type": "markdown",
   "metadata": {},
   "source": [
    "## 基于深度学习的文本分类(一）\n",
    "\n",
    "与传统机器学习不同，深度学习既提供特征提取功能，也可以完成分类的功能\n",
    "\n",
    "\n",
    "### 1. 现有文本表示方法的缺陷\n",
    "\n",
    "- one-hot :转换得到的向量维度很高，需要较长的训练实践；\n",
    "- Bag of Words、N-gram、TF-IDF：没有考虑单词与单词之间的关系，只是进行了统计。\n",
    "- 与这些表示方法不同，深度学习也可以用于文本表示，还可以将其映射到一个低纬空间。其中比较典型的例子有：FastText、Word2Vec和Bert。"
   ]
  },
  {
   "cell_type": "markdown",
   "metadata": {},
   "source": [
    "### FastText\n",
    "\n",
    "#### 1. FastText的使用和基础原理\n",
    "\n",
    "- fastText方法包含三部分，模型架构，层次SoftMax和N-gram特征。\n",
    "\n",
    "##### 1.架构\n",
    "- FastText是一种典型的深度学习词向量的表示方法，它非常简单通过Embedding层将单词映射到稠密空间，然后将句子中所有的单词在Embedding空间中进行平均，进而完成分类操作。\n",
    "\n",
    "- FastText是一个三层的神经网络，输入层、隐含层和输出层。\n",
    "\n",
    "- 其中x1,x2,…,xN−1,xN表示一个文本中的n-gram向量，每个特征是词向量的平均值。\n",
    "\n",
    "<img src=\"1595580340752.png\" alt=\"1595580340752\" style=\"zoom:50%;\" />\n",
    "\n",
    "- fastText 模型输入一个词的序列（一段文本或者一句话)，输出这个词序列属于不同类别的概率。\n",
    "- 序列中的词和词组组成特征向量，特征向量通过线性变换映射到中间层，中间层再映射到标签。\n",
    "- fastText 在预测标签时使用了非线性激活函数，但在中间层不使用非线性激活函数。fastText 模型架构和 Word2Vec 中的 CBOW 模型很类似。不同之处在于，fastText 预测标签，而 CBOW 模型预测中间词。\n",
    "\n",
    "##### 2.层次SoftMax\n",
    "- 标准的Softmax回归中，要计算y=j时的Softmax概率：，我们需要对所有的K个概率做归一化，这在|y|很大时非常耗时。于是，分层Softmax诞生了，它的基本思想是使用树的层级结构替代扁平化的标准Softmax，使得在计算时，只需计算一条路径上的所有节点的概率值，无需在意其它的节点。\n",
    "\n",
    "- fastText 也利用了类别（class）不均衡这个事实（一些类别出现次数比其他的更多），通过使用 Huffman 算法建立用于表征类别的树形结构。因此，频繁出现类别的树形结构的深度要比不频繁出现类别的树形结构的深度要小，这也使得进一步的计算效率更高。\n",
    "\n",
    "- Huffman树：给定N个权值作为N个叶子结点，构造一棵二叉树，若该树的带权路径长度达到最小，称这样的二叉树为最优二叉树，也称为哈夫曼树(Huffman Tree)。哈夫曼树是带权路径长度最短的树，权值较大的结点离根较近。\n",
    "- Huffman树的构造：https://blog.csdn.net/qq_29519041/article/details/81428934\n",
    "\n",
    "<img src=\"1595581036580.png\" alt=\"1595581036580\" style=\"zoom: 33%;\" />\n",
    "\n",
    "- 和CBOW一样，fastText模型也只有三层：输入层、隐含层、输出层（Hierarchical Softmax），输入都是多个经向量表示的单词，输出都是一个特定的target，隐含层都是对多个词向量的叠加平均。\n",
    "- 不同的是，CBOW的输入是目标单词的上下文，fastText的输入是多个单词及其n-gram特征，这些特征用来表示单个文档；CBOW的输入单词被onehot编码过，fastText的输入特征是被embedding过；CBOW的输出是目标词汇，fastText的输出是文档对应的类标。\n",
    "\n",
    "- 细节：https://blog.csdn.net/itplus/article/details/37969979\n",
    "##### 3.N-gram特征\n",
    "- fastText 可以用于文本分类和句子分类。不管是文本分类还是句子分类，我们常用的特征是词袋模型。但词袋模型不能考虑词之间的顺序，因此 fastText 还加入了 N-gram 特征。为了提高效率，我们需要过滤掉低频的 N-gram。\n",
    "\n",
    "\n",
    "##### 4. 总结\n",
    "- fastText是一个快速文本分类算法，与基于神经网络的分类算法相比有两大优点：\n",
    "    - 1、fastText在保持高精度的情况下加快了训练速度和测试速度\n",
    "    - 2、fastText不需要预训练好的词向量，fastText会自己训练词向量\n",
    "    - 3、fastText两个重要的优化：Hierarchical Softmax、N-gram\n",
    "\n",
    "##### 5. 使用keras实现的FastText网络结构：\n",
    "\n",
    "![1595581962279](1595581962279.png)\n"
   ]
  },
  {
   "cell_type": "markdown",
   "metadata": {},
   "source": [
    "#### 2.  代码"
   ]
  },
  {
   "cell_type": "markdown",
   "metadata": {},
   "source": [
    "##### 初步调参\n",
    "- **调参后发现，都出现了过拟合现象，当 wordNgrams =1时不是很严重，但它的训练集验证集效果都不好**\n",
    "- **当 wordNgrams>=3,学习率>=0.3时，训练集得分都达到了0.99以上；测试集得分也不错。但是同时过拟合现象开始严重**\n",
    "\n",
    "\n",
    "| 训练集得分 | wordNgrams |        |        |        |        |\n",
    "| ---------- | ---------- | ------ | ------ | ------ | ------ |\n",
    "| 学习率     | 1          | 2      | 3      | 4      | avg    |\n",
    "| 0.05       | 0.8837     | 0.9271 | 0.9109 | 0.8924 | 0.9035 |\n",
    "| 0.1        | 0.8943     | 0.9588 | 0.9587 | 0.9509 | 0.9407 |\n",
    "| 0.3        | 0.8997     | 0.9885 | 0.9927 | 0.9919 | 0.9682 |\n",
    "| 0.5        | 0.9018     | 0.9938 | 0.9977 | 0.9974 | 0.9727 |\n",
    "| 0.7        | 0.9017     | 0.9953 | 0.9988 | 0.9989 | 0.9737 |\n",
    "| avg        | 0.8962     | 0.9727 | 0.9717 | 0.9663 |        |\n",
    "\n",
    "\n",
    "\n",
    "| 验证集得分 | wordNgrams |        |        |        |        |\n",
    "| ---------- | ---------- | ------ | ------ | ------ | ------ |\n",
    "| 学习率     | 1          | 2      | 3      | 4      | avg    |\n",
    "| 0.05       | 0.8657     | 0.8992 | 0.8937 | 0.8671 | 0.8814 |\n",
    "| 0.1        | 0.8807     | 0.9130 | 0.9171 | 0.9082 | 0.9048 |\n",
    "| 0.3        | 0.8694     | 0.9163 | 0.9216 | 0.9184 | 0.9064 |\n",
    "| 0.5        | 0.8699     | 0.9235 | 0.9189 | 0.9170 | 0.9073 |\n",
    "| 0.7        | 0.8676     | 0.9135 | 0.9248 | 0.9174 | 0.9058 |\n",
    "| avg        | 0.8707     | 0.9131 | 0.9152 | 0.9056 |        |\n",
    "\n",
    "| 可调整方差 | wordNgrams |        |        |        |        |\n",
    "| ---------- | ---------- | ------ | ------ | ------ | ------ |\n",
    "| 学习率     | 1          | 2      | 3      | 4      |        |\n",
    "| 0.05       | 0.0181     | 0.0279 | 0.0172 | 0.0253 | 0.0221 |\n",
    "| 0.1        | 0.0136     | 0.0458 | 0.0416 | 0.0427 | 0.0359 |\n",
    "| 0.3        | 0.0303     | 0.0722 | 0.0711 | 0.0735 | 0.0618 |\n",
    "| 0.5        | 0.0319     | 0.0704 | 0.0788 | 0.0804 | 0.0654 |\n",
    "| 0.7        | 0.0341     | 0.0819 | 0.0740 | 0.0815 | 0.0679 |\n",
    "| avg        | 0.0256     | 0.0596 | 0.0565 | 0.0607 |        |"
   ]
  },
  {
   "cell_type": "code",
   "execution_count": null,
   "metadata": {
    "ExecuteTime": {
     "start_time": "2020-07-27T14:50:35.287Z"
    }
   },
   "outputs": [],
   "source": [
    "import gc \n",
    "import fasttext\n",
    "import pandas as pd\n",
    "from sklearn.metrics import f1_score\n",
    "\n",
    "# 转换为FastText需要的格式\n",
    "train_df = pd.read_csv('train_set.csv', nrows=200000)\n",
    "train_df['label_ft'] = '__label__' + train_df['label'].astype(str)\n",
    "## 将数据分成20块\n",
    "train_df=train_df.reset_index(drop=False)\n",
    "train_df['chunk']=train_df['index'].apply(lambda x:x//10000)\n",
    "del train_df['index']"
   ]
  },
  {
   "cell_type": "code",
   "execution_count": 4,
   "metadata": {
    "ExecuteTime": {
     "end_time": "2020-07-24T20:09:26.345296Z",
     "start_time": "2020-07-24T14:50:59.946544Z"
    }
   },
   "outputs": [
    {
     "name": "stdout",
     "output_type": "stream",
     "text": [
      "第0轮验证集得分： 0.8656537915456466\n",
      "第1轮验证集得分： 0.8992325884008228\n",
      "第2轮验证集得分： 0.8936774998581996\n",
      "第3轮验证集得分： 0.867112682743608\n",
      "第4轮验证集得分： 0.8807203365230276\n",
      "第5轮验证集得分： 0.913009034074127\n",
      "第6轮验证集得分： 0.9170905990064914\n",
      "第7轮验证集得分： 0.9082022953710883\n",
      "第8轮验证集得分： 0.8694391418629911\n",
      "第9轮验证集得分： 0.9163202602150945\n",
      "第10轮验证集得分： 0.9215890420148881\n",
      "第11轮验证集得分： 0.9183973157929071\n",
      "第12轮验证集得分： 0.8699130448049852\n",
      "第13轮验证集得分： 0.9234506098836724\n",
      "第14轮验证集得分： 0.9189158914219596\n",
      "第15轮验证集得分： 0.9169980520220228\n",
      "第16轮验证集得分： 0.8676112908612829\n",
      "第17轮验证集得分： 0.9134748238130381\n",
      "第18轮验证集得分： 0.9247903376585985\n",
      "第19轮验证集得分： 0.9174080596528963\n"
     ]
    }
   ],
   "source": [
    "a = 0\n",
    "for i in [0.05,0.1,0.3,0.5,0.7]:\n",
    "    for j in [1,2,3,4]:\n",
    "        train_df[train_df.chunk!=a][['text_nostopwords','label_ft']].to_csv('train{}.csv'.format(a), index=None, header=None, sep='\\t')\n",
    "        gc.collect()\n",
    "        model = fasttext.train_supervised('train{}.csv'.format(a), lr=i, wordNgrams=j, verbose=1, minCount=2, epoch=20, loss=\"hs\")\n",
    "        gc.collect()\n",
    "        val_pred = [model.predict(x)[0][0].split('__')[-1] for x in train_df[train_df.chunk==a]['text_nostopwords']]\n",
    "        print('第{}轮验证集得分：'.format(a),f1_score(train_df[train_df.chunk==a]['label'].values.astype(str), val_pred, average='macro'))\n",
    "        model.save_model(\"model_{}.bin\".format(a))\n",
    "        gc.collect()\n",
    "        a+=1"
   ]
  },
  {
   "cell_type": "code",
   "execution_count": 6,
   "metadata": {
    "ExecuteTime": {
     "end_time": "2020-07-25T02:22:12.280474Z",
     "start_time": "2020-07-25T01:54:23.790538Z"
    },
    "scrolled": true
   },
   "outputs": [
    {
     "name": "stderr",
     "output_type": "stream",
     "text": [
      "Warning : `load_model` does not return WordVectorModel or SupervisedModel any more, but a `FastText` object which is very similar.\n"
     ]
    },
    {
     "name": "stdout",
     "output_type": "stream",
     "text": [
      "第0轮训练集得分： 0.8837432138750335\n"
     ]
    },
    {
     "name": "stderr",
     "output_type": "stream",
     "text": [
      "Warning : `load_model` does not return WordVectorModel or SupervisedModel any more, but a `FastText` object which is very similar.\n"
     ]
    },
    {
     "name": "stdout",
     "output_type": "stream",
     "text": [
      "第1轮训练集得分： 0.927100105826785\n"
     ]
    },
    {
     "name": "stderr",
     "output_type": "stream",
     "text": [
      "Warning : `load_model` does not return WordVectorModel or SupervisedModel any more, but a `FastText` object which is very similar.\n"
     ]
    },
    {
     "name": "stdout",
     "output_type": "stream",
     "text": [
      "第2轮训练集得分： 0.9109043011365658\n"
     ]
    },
    {
     "name": "stderr",
     "output_type": "stream",
     "text": [
      "Warning : `load_model` does not return WordVectorModel or SupervisedModel any more, but a `FastText` object which is very similar.\n"
     ]
    },
    {
     "name": "stdout",
     "output_type": "stream",
     "text": [
      "第3轮训练集得分： 0.8924206103861121\n"
     ]
    },
    {
     "name": "stderr",
     "output_type": "stream",
     "text": [
      "Warning : `load_model` does not return WordVectorModel or SupervisedModel any more, but a `FastText` object which is very similar.\n"
     ]
    },
    {
     "name": "stdout",
     "output_type": "stream",
     "text": [
      "第4轮训练集得分： 0.894270805114278\n"
     ]
    },
    {
     "name": "stderr",
     "output_type": "stream",
     "text": [
      "Warning : `load_model` does not return WordVectorModel or SupervisedModel any more, but a `FastText` object which is very similar.\n"
     ]
    },
    {
     "name": "stdout",
     "output_type": "stream",
     "text": [
      "第5轮训练集得分： 0.9587675784527585\n"
     ]
    },
    {
     "name": "stderr",
     "output_type": "stream",
     "text": [
      "Warning : `load_model` does not return WordVectorModel or SupervisedModel any more, but a `FastText` object which is very similar.\n"
     ]
    },
    {
     "name": "stdout",
     "output_type": "stream",
     "text": [
      "第6轮训练集得分： 0.9587019995029343\n"
     ]
    },
    {
     "name": "stderr",
     "output_type": "stream",
     "text": [
      "Warning : `load_model` does not return WordVectorModel or SupervisedModel any more, but a `FastText` object which is very similar.\n"
     ]
    },
    {
     "name": "stdout",
     "output_type": "stream",
     "text": [
      "第7轮训练集得分： 0.9508820278087929\n"
     ]
    },
    {
     "name": "stderr",
     "output_type": "stream",
     "text": [
      "Warning : `load_model` does not return WordVectorModel or SupervisedModel any more, but a `FastText` object which is very similar.\n"
     ]
    },
    {
     "name": "stdout",
     "output_type": "stream",
     "text": [
      "第8轮训练集得分： 0.8997286284575502\n"
     ]
    },
    {
     "name": "stderr",
     "output_type": "stream",
     "text": [
      "Warning : `load_model` does not return WordVectorModel or SupervisedModel any more, but a `FastText` object which is very similar.\n"
     ]
    },
    {
     "name": "stdout",
     "output_type": "stream",
     "text": [
      "第9轮训练集得分： 0.9884970708321273\n"
     ]
    },
    {
     "name": "stderr",
     "output_type": "stream",
     "text": [
      "Warning : `load_model` does not return WordVectorModel or SupervisedModel any more, but a `FastText` object which is very similar.\n"
     ]
    },
    {
     "name": "stdout",
     "output_type": "stream",
     "text": [
      "第10轮训练集得分： 0.9926521386301443\n"
     ]
    },
    {
     "name": "stderr",
     "output_type": "stream",
     "text": [
      "Warning : `load_model` does not return WordVectorModel or SupervisedModel any more, but a `FastText` object which is very similar.\n"
     ]
    },
    {
     "name": "stdout",
     "output_type": "stream",
     "text": [
      "第11轮训练集得分： 0.991931862138553\n"
     ]
    },
    {
     "name": "stderr",
     "output_type": "stream",
     "text": [
      "Warning : `load_model` does not return WordVectorModel or SupervisedModel any more, but a `FastText` object which is very similar.\n"
     ]
    },
    {
     "name": "stdout",
     "output_type": "stream",
     "text": [
      "第12轮训练集得分： 0.901783011058655\n"
     ]
    },
    {
     "name": "stderr",
     "output_type": "stream",
     "text": [
      "Warning : `load_model` does not return WordVectorModel or SupervisedModel any more, but a `FastText` object which is very similar.\n"
     ]
    },
    {
     "name": "stdout",
     "output_type": "stream",
     "text": [
      "第13轮训练集得分： 0.9938324287935261\n"
     ]
    },
    {
     "name": "stderr",
     "output_type": "stream",
     "text": [
      "Warning : `load_model` does not return WordVectorModel or SupervisedModel any more, but a `FastText` object which is very similar.\n"
     ]
    },
    {
     "name": "stdout",
     "output_type": "stream",
     "text": [
      "第14轮训练集得分： 0.9977019673385893\n"
     ]
    },
    {
     "name": "stderr",
     "output_type": "stream",
     "text": [
      "Warning : `load_model` does not return WordVectorModel or SupervisedModel any more, but a `FastText` object which is very similar.\n"
     ]
    },
    {
     "name": "stdout",
     "output_type": "stream",
     "text": [
      "第15轮训练集得分： 0.9974177326674135\n"
     ]
    },
    {
     "name": "stderr",
     "output_type": "stream",
     "text": [
      "Warning : `load_model` does not return WordVectorModel or SupervisedModel any more, but a `FastText` object which is very similar.\n"
     ]
    },
    {
     "name": "stdout",
     "output_type": "stream",
     "text": [
      "第16轮训练集得分： 0.9016987044201216\n"
     ]
    },
    {
     "name": "stderr",
     "output_type": "stream",
     "text": [
      "Warning : `load_model` does not return WordVectorModel or SupervisedModel any more, but a `FastText` object which is very similar.\n"
     ]
    },
    {
     "name": "stdout",
     "output_type": "stream",
     "text": [
      "第17轮训练集得分： 0.995328080680666\n"
     ]
    },
    {
     "name": "stderr",
     "output_type": "stream",
     "text": [
      "Warning : `load_model` does not return WordVectorModel or SupervisedModel any more, but a `FastText` object which is very similar.\n"
     ]
    },
    {
     "name": "stdout",
     "output_type": "stream",
     "text": [
      "第18轮训练集得分： 0.9987557418715028\n"
     ]
    },
    {
     "name": "stderr",
     "output_type": "stream",
     "text": [
      "Warning : `load_model` does not return WordVectorModel or SupervisedModel any more, but a `FastText` object which is very similar.\n"
     ]
    },
    {
     "name": "stdout",
     "output_type": "stream",
     "text": [
      "第19轮训练集得分： 0.9989166579571224\n"
     ]
    }
   ],
   "source": [
    "for a in range(20):\n",
    "    model = fasttext.load_model(\"model_{}.bin\".format(a))\n",
    "    gc.collect()\n",
    "    val_pred = [model.predict(x)[0][0].split('__')[-1] for x in train_df[train_df.chunk!=a]['text_nostopwords']]\n",
    "    gc.collect()\n",
    "    print('第{}轮训练集得分：'.format(a),f1_score(train_df[train_df.chunk!=a]['label'].values.astype(str), val_pred, average='macro'))\n",
    "    gc.collect()"
   ]
  },
  {
   "cell_type": "markdown",
   "metadata": {},
   "source": [
    "##### 提交测试集结果\n",
    "\n",
    "测试集提交结果到线上得分**0.9220**，fasttext真的是效果好，速度快。\n",
    "\n",
    "![1595645656460](1595645656460.png)\n",
    "\n",
    "**与验证集0.9248差距不大**，但都与训练集差距较大。\n",
    "\n",
    "所以**测试集a与训练集是同分布的**，但是模型过拟合。\n",
    "\n",
    "基于机器学习没有办法提交，我的CPU上跑不出25W语料的TFIDF。但是验证集上最高分数也有0.92，并且可减少方差才0.03 (fasttext0.07左右).如果有办法在整个语料上训练，应该也能得到不错的分数。\n",
    "\n",
    "接下来，减小方差和过拟合"
   ]
  },
  {
   "cell_type": "code",
   "execution_count": 9,
   "metadata": {
    "ExecuteTime": {
     "end_time": "2020-07-26T00:05:20.889140Z",
     "start_time": "2020-07-26T00:04:07.839762Z"
    }
   },
   "outputs": [
    {
     "name": "stderr",
     "output_type": "stream",
     "text": [
      "Warning : `load_model` does not return WordVectorModel or SupervisedModel any more, but a `FastText` object which is very similar.\n"
     ]
    }
   ],
   "source": [
    "model = fasttext.load_model(\"ova_best_model.bin\")\n",
    "test_df = pd.read_csv('test_a.csv')\n",
    "val_pred = [model.predict(x)[0][0].split('__')[-1] for x in test_df['text_nostopwords']]\n",
    "test_df['label'] = val_pred \n",
    "sub_ft=pd.read_csv('test_a_sample_submit.csv')\n",
    "sub_ft['label']=val_pred \n",
    "sub_ft.to_csv('sub_ft_ova_best_model.csv')\n",
    "#score:0.9220 ,lr=0.7,wordNgrams=3时，epoch=20,minCount=2,训练集19万，验证集1万."
   ]
  },
  {
   "cell_type": "markdown",
   "metadata": {},
   "source": [
    "##### 提高验证集得分 与 减少过拟合\n",
    "\n",
    "###### 1.减少epoch\n",
    "\n",
    "**验证集分数在epoch10-15开始下降，我们将epoch定为10**"
   ]
  },
  {
   "cell_type": "code",
   "execution_count": 11,
   "metadata": {
    "ExecuteTime": {
     "end_time": "2020-07-25T04:05:15.282153Z",
     "start_time": "2020-07-25T03:16:24.437359Z"
    },
    "scrolled": true
   },
   "outputs": [
    {
     "name": "stdout",
     "output_type": "stream",
     "text": [
      "epoch=3时得分为： 0.9476129335118566\n",
      "epoch=3时得分为： 0.9107175195818866\n",
      "epoch=5时得分为： 0.9689074686463456\n",
      "epoch=5时得分为： 0.9168046743546389\n",
      "epoch=7时得分为： 0.9812532667434307\n",
      "epoch=7时得分为： 0.9176546385174058\n",
      "epoch=10时得分为： 0.9909502268206117\n",
      "epoch=10时得分为： 0.9216717565982785\n",
      "epoch=15时得分为： 0.9969211064200393\n",
      "epoch=15时得分为： 0.9189921655430925\n"
     ]
    }
   ],
   "source": [
    "a=0\n",
    "for i in [3,5,7,10,15]:\n",
    "    model = fasttext.train_supervised('train{}.csv'.format(a), lr=0.7, wordNgrams=3, verbose=1, minCount=1, epoch=i, loss=\"hs\")\n",
    "    gc.collect()\n",
    "    val_pred = [model.predict(x)[0][0].split('__')[-1] for x in train_df[train_df.chunk!=a]['text_nostopwords']]\n",
    "    gc.collect()\n",
    "    print('epoch={}时训练集得分为：'.format(i),f1_score(train_df[train_df.chunk!=a]['label'].values.astype(str), val_pred, average='macro'))\n",
    "    gc.collect()\n",
    "    val_pred = [model.predict(x)[0][0].split('__')[-1] for x in train_df[train_df.chunk==a]['text_nostopwords']]\n",
    "    print('epoch={}时测试集得分为：'.format(i),f1_score(train_df[train_df.chunk==a]['label'].values.astype(str), val_pred, average='macro'))\n",
    "    gc.collect()"
   ]
  },
  {
   "cell_type": "markdown",
   "metadata": {},
   "source": [
    "###### 2.尝试不同的损失函数\n",
    "\n",
    "ova 的效果比hs提升了1.7个百分点，为**0.939**！！\n",
    "\n",
    "![1595660682587](1595660682587.png)"
   ]
  },
  {
   "cell_type": "code",
   "execution_count": 2,
   "metadata": {
    "ExecuteTime": {
     "end_time": "2020-07-25T06:06:10.396283Z",
     "start_time": "2020-07-25T05:30:35.630328Z"
    },
    "scrolled": true
   },
   "outputs": [
    {
     "name": "stdout",
     "output_type": "stream",
     "text": [
      "loss=ns时训练集得分为： 0.979892545297221\n",
      "loss=ns时测试集得分为： 0.9443190353147443\n",
      "loss=softmax时训练集得分为： 0.993114578847455\n",
      "loss=softmax时测试集得分为： 0.9381814728623147\n",
      "loss=ova时训练集得分为： 0.9921614289566858\n",
      "loss=ova时测试集得分为： 0.9471688050978214\n"
     ]
    }
   ],
   "source": [
    "a=18\n",
    "for i in ['ns',  'softmax', 'ova']:\n",
    "    model = fasttext.train_supervised('train{}.csv'.format(a), lr=0.7, wordNgrams=3, verbose=1, minCount=1, epoch=10, loss=i)\n",
    "    gc.collect()\n",
    "    val_pred = [model.predict(x)[0][0].split('__')[-1] for x in train_df[train_df.chunk!=a]['text_nostopwords']]\n",
    "    gc.collect()\n",
    "    print('loss={}时训练集得分为：'.format(i),f1_score(train_df[train_df.chunk!=a]['label'].values.astype(str), val_pred, average='macro'))\n",
    "    gc.collect()\n",
    "    val_pred = [model.predict(x)[0][0].split('__')[-1] for x in train_df[train_df.chunk==a]['text_nostopwords']]\n",
    "    print('loss={}时测试集得分为：'.format(i),f1_score(train_df[train_df.chunk==a]['label'].values.astype(str), val_pred, average='macro'))\n",
    "    gc.collect()"
   ]
  },
  {
   "cell_type": "code",
   "execution_count": 4,
   "metadata": {
    "ExecuteTime": {
     "end_time": "2020-07-25T06:37:53.357569Z",
     "start_time": "2020-07-25T06:37:20.307401Z"
    }
   },
   "outputs": [],
   "source": [
    "test_df = pd.read_csv('test_a.csv')\n",
    "val_pred = [model.predict(x)[0][0].split('__')[-1] for x in test_df['text_nostopwords']]\n",
    "test_df['label'] = val_pred \n",
    "sub_ft=pd.read_csv('test_a_sample_submit.csv')\n",
    "sub_ft['label']=val_pred \n",
    "sub_ft.to_csv('sub_ft_ova.csv')"
   ]
  },
  {
   "cell_type": "markdown",
   "metadata": {},
   "source": [
    "ns似乎还有提升的空间\n",
    "\n",
    "epoch 为12时，验证集得分0.945。保存一下模型，明天提交下测试集。"
   ]
  },
  {
   "cell_type": "code",
   "execution_count": 9,
   "metadata": {
    "ExecuteTime": {
     "end_time": "2020-07-25T08:26:18.407982Z",
     "start_time": "2020-07-25T06:54:16.805971Z"
    }
   },
   "outputs": [
    {
     "name": "stdout",
     "output_type": "stream",
     "text": [
      "epoch=10时训练集得分为： 0.9801415979592009\n",
      "epoch=10时测试集得分为： 0.9433538361682494\n",
      "epoch=11时训练集得分为： 0.9827402810356057\n",
      "epoch=11时测试集得分为： 0.9450250600134605\n",
      "epoch=12时训练集得分为： 0.9850912116822854\n",
      "epoch=12时测试集得分为： 0.945213972310901\n",
      "epoch=13时训练集得分为： 0.9868940606388357\n",
      "epoch=13时测试集得分为： 0.9444955624004504\n",
      "epoch=14时训练集得分为： 0.9885691204452733\n",
      "epoch=14时测试集得分为： 0.9447401376090285\n",
      "epoch=15时训练集得分为： 0.9897843909788164\n",
      "epoch=15时测试集得分为： 0.9448126465492147\n"
     ]
    }
   ],
   "source": [
    "\n",
    "a=18\n",
    "bst=0.0\n",
    "for i in [10,11,12,13,14,15]:\n",
    "    model = fasttext.train_supervised('train{}.csv'.format(a), lr=0.7, wordNgrams=3, verbose=1, minCount=1, epoch=i, loss='ns')\n",
    "    gc.collect()\n",
    "    val_pred = [model.predict(x)[0][0].split('__')[-1] for x in train_df[train_df.chunk!=a]['text_nostopwords']]\n",
    "    gc.collect()\n",
    "    print('epoch={}时训练集得分为：'.format(i),f1_score(train_df[train_df.chunk!=a]['label'].values.astype(str), val_pred, average='macro'))\n",
    "    gc.collect()\n",
    "    val_pred = [model.predict(x)[0][0].split('__')[-1] for x in train_df[train_df.chunk==a]['text_nostopwords']]\n",
    "    val_score=f1_score(train_df[train_df.chunk==a]['label'].values.astype(str), val_pred, average='macro')\n",
    "    if val_score>bst:\n",
    "        bst=val_score\n",
    "        ### 保存最好的模型\n",
    "        model.save_model(\"ova_best_model.bin\")\n",
    "    print('epoch={}时测试集得分为：'.format(i),val_score)\n",
    "    gc.collect()\n",
    "    "
   ]
  },
  {
   "cell_type": "markdown",
   "metadata": {},
   "source": [
    "###### 3.文本数据增强\n",
    "\n",
    "- 文本数据增强主要包含四种操作：同义词替换、随机插入、随机交换和随机删除。详细说明如下：\n",
    "    - (1) 同义词替换(SR)：从句子中随机选择非停止词。用随机选择的同义词替换这些单词；\n",
    "    - (2) 随机插入(RI)：随机的找出句中某个不属于停用词集的词，并求出其随机的同义词，将该同义词插入句子的一个随机位置。重复n次；\n",
    "    - (3) 随机交换(Random Swap, RS)：随机的选择句中两个单词并交换它们的位置。重复n次；\n",
    "    - (4) 随机删除(RD)：以概率p随机删除句子中每个单词。\n",
    "\n",
    "- 由于数据加密，本次仅尝试方法3-4。"
   ]
  },
  {
   "cell_type": "code",
   "execution_count": 3,
   "metadata": {
    "ExecuteTime": {
     "end_time": "2020-07-25T13:34:51.629622Z",
     "start_time": "2020-07-25T13:34:47.902329Z"
    }
   },
   "outputs": [],
   "source": [
    "test_df = pd.read_csv('test_a.csv')\n",
    "X_all = pd.concat([train_df['text_nostopwords'],test_df['text_nostopwords']]).values\n",
    "y_train = train_df['label'].values"
   ]
  },
  {
   "cell_type": "code",
   "execution_count": 4,
   "metadata": {
    "ExecuteTime": {
     "end_time": "2020-07-25T13:34:53.354839Z",
     "start_time": "2020-07-25T13:34:53.324914Z"
    }
   },
   "outputs": [],
   "source": [
    "x_all = list(X_all)\n",
    "y_all = list(y_train)+[0]*50000"
   ]
  },
  {
   "cell_type": "code",
   "execution_count": 5,
   "metadata": {
    "ExecuteTime": {
     "end_time": "2020-07-25T13:35:36.808344Z",
     "start_time": "2020-07-25T13:34:54.557133Z"
    }
   },
   "outputs": [
    {
     "data": {
      "text/plain": [
       "0"
      ]
     },
     "execution_count": 5,
     "metadata": {},
     "output_type": "execute_result"
    }
   ],
   "source": [
    "import re \n",
    "import numpy as np\n",
    "\n",
    "def shuffle(d):\n",
    "    return np.random.permutation(d)\n",
    "\n",
    "def shuffle2(d):\n",
    "    len_ = len(d)\n",
    "    times = 2\n",
    "    for i in range(times):\n",
    "        index = np.random.choice(len_, 2)\n",
    "        d[index[0]],d[index[1]] = d[index[1]],d[index[0]]\n",
    "    return d\n",
    "\n",
    "def dropout(d, p=0.2):\n",
    "    len_ = len(d)\n",
    "    index = np.random.choice(len_, int(len_ * p))\n",
    "    for i in index:\n",
    "        d[i] = ' '\n",
    "    return d\n",
    "\n",
    "def clean(xx):\n",
    "    xx1= xx.split(' ')\n",
    "    return xx1\n",
    "\n",
    "def dataaugment(X):\n",
    "    l = len(X)\n",
    "    res=[]\n",
    "    for i in range(l):\n",
    "        item = clean(X[i])\n",
    "        d1 = shuffle2(item)\n",
    "        d11 = ' '.join(d1)\n",
    "        d2 = dropout(item)\n",
    "        d22 = ' '.join(d2)\n",
    "        x = [' '.join(item),d11,d22][np.random.choice(3)] ##随机选择\n",
    "        res.append(x)    \n",
    "    return res\n",
    "Xp_all= dataaugment(x_all)\n",
    "gc.collect()"
   ]
  },
  {
   "cell_type": "code",
   "execution_count": 7,
   "metadata": {
    "ExecuteTime": {
     "end_time": "2020-07-25T13:37:45.231790Z",
     "start_time": "2020-07-25T13:37:30.031402Z"
    }
   },
   "outputs": [
    {
     "data": {
      "text/plain": [
       "0"
      ]
     },
     "execution_count": 7,
     "metadata": {},
     "output_type": "execute_result"
    }
   ],
   "source": [
    "a=18\n",
    "train_df['text_agu']=Xp_all[:200000]\n",
    "test_df['text_agu']=Xp_all[200000:]\n",
    "gc.collect()\n",
    "train_df[train_df.chunk!=a][['text_agu','label_ft']].to_csv('train_agu.csv', index=None, header=None, sep='\\t')\n",
    "gc.collect()"
   ]
  },
  {
   "cell_type": "code",
   "execution_count": 8,
   "metadata": {
    "ExecuteTime": {
     "end_time": "2020-07-25T13:54:58.706151Z",
     "start_time": "2020-07-25T13:37:57.285417Z"
    }
   },
   "outputs": [
    {
     "name": "stdout",
     "output_type": "stream",
     "text": [
      "agu 训练集得分为： 0.9903682776282482\n",
      "agu 测试集得分为： 0.9390859817991507\n"
     ]
    }
   ],
   "source": [
    "model = fasttext.train_supervised('train_agu.csv', lr=0.7, wordNgrams=3, verbose=1, minCount=1, epoch=15, loss='ns')\n",
    "gc.collect()\n",
    "val_pred = [model.predict(x)[0][0].split('__')[-1] for x in train_df[train_df.chunk!=a]['text_agu']]\n",
    "gc.collect()\n",
    "print('agu 训练集得分为：',f1_score(train_df[train_df.chunk!=a]['label'].values.astype(str), val_pred, average='macro'))\n",
    "gc.collect()\n",
    "val_pred = [model.predict(x)[0][0].split('__')[-1] for x in train_df[train_df.chunk==a]['text_agu']]\n",
    "val_score=f1_score(train_df[train_df.chunk==a]['label'].values.astype(str), val_pred, average='macro')\n",
    "model.save_model(\"agu_ova_best_model.bin\")\n",
    "print('agu 测试集得分为：',val_score)"
   ]
  },
  {
   "cell_type": "markdown",
   "metadata": {},
   "source": [
    "## 基于深度学习的文本分类(二）\n",
    "\n",
    "在上一章节，我们通过FastText快速实现了基于深度学习的文本分类模型，但是这个模型并不是最优的。在本章我们将继续深入。\n",
    "\n",
    "### 学习目标\n",
    "\n",
    "- 学习Word2Vec的使用和基础原理\n",
    "- 学习使用TextCNN、TextRNN进行文本表示\n",
    "- 学习使用HAN网络结构完成文本分类\n",
    "\n",
    "\n",
    "### 文本表示方法\n",
    "\n",
    "#### Word2Vec-Skip-Gram实现\n",
    "\n",
    "##### 1. 读取数据、建立语料字典"
   ]
  },
  {
   "cell_type": "code",
   "execution_count": 2,
   "metadata": {
    "ExecuteTime": {
     "end_time": "2020-07-28T01:54:21.040907Z",
     "start_time": "2020-07-28T01:54:21.035922Z"
    }
   },
   "outputs": [],
   "source": [
    "from  collections import Counter,deque\n",
    "import random\n",
    "import tensorflow as tf \n",
    "import math "
   ]
  },
  {
   "cell_type": "code",
   "execution_count": 3,
   "metadata": {
    "ExecuteTime": {
     "end_time": "2020-07-28T01:54:41.521589Z",
     "start_time": "2020-07-28T01:54:21.744620Z"
    }
   },
   "outputs": [],
   "source": [
    "import pandas as pd\n",
    "import numpy as np \n",
    "import gc\n",
    "\n",
    "train_df=pd.read_csv('train_set.csv')\n",
    "test_df=pd.read_csv('test_a.csv')\n",
    "text = pd.concat([train_df['text_nostopwords'][:50000],test_df['text_nostopwords'][:10000]],axis=0).values\n",
    "#del train_df,test_df"
   ]
  },
  {
   "cell_type": "code",
   "execution_count": 4,
   "metadata": {
    "ExecuteTime": {
     "end_time": "2020-07-28T01:54:52.200212Z",
     "start_time": "2020-07-28T01:54:41.523548Z"
    }
   },
   "outputs": [
    {
     "name": "stdout",
     "output_type": "stream",
     "text": [
      "54393509\n"
     ]
    }
   ],
   "source": [
    "words = []\n",
    "for line in text:\n",
    "    words+=line.split(' ')\n",
    "    \n",
    "gc.collect()\n",
    "\n",
    "print(len(words))"
   ]
  },
  {
   "cell_type": "code",
   "execution_count": 5,
   "metadata": {
    "ExecuteTime": {
     "end_time": "2020-07-28T01:54:52.968158Z",
     "start_time": "2020-07-28T01:54:52.208191Z"
    }
   },
   "outputs": [
    {
     "data": {
      "text/plain": [
       "0"
      ]
     },
     "execution_count": 5,
     "metadata": {},
     "output_type": "execute_result"
    }
   ],
   "source": [
    "gc.collect()"
   ]
  },
  {
   "cell_type": "code",
   "execution_count": 6,
   "metadata": {
    "ExecuteTime": {
     "end_time": "2020-07-28T01:54:53.066899Z",
     "start_time": "2020-07-28T01:54:52.971153Z"
    }
   },
   "outputs": [],
   "source": [
    "vocabulary_size = 5000\n",
    "def bulid_dataset(words):\n",
    "    count = [['UNK',-1]]\n",
    "    count.extend(Counter(words).most_common(vocabulary_size-1))\n",
    "    gc.collect()\n",
    "    dictionary=dict()\n",
    "    \n",
    "    for idx,(word,_) in enumerate(count):\n",
    "        dictionary[word]=idx \n",
    "    gc.collect()\n",
    "    \n",
    "    data = list()\n",
    "    unk_count=0\n",
    "    \n",
    "    print('建立字典。。。。')\n",
    "    for word in words:\n",
    "        if word in dictionary:\n",
    "            data.append(dictionary[word])\n",
    "        else:\n",
    "            unk_count+=1\n",
    "            data.append(0)\n",
    "    print('字典建立完毕')\n",
    "    gc.collect()\n",
    "    count[0][1]=unk_count \n",
    "    \n",
    "    reverse_dictionary = dict(zip(dictionary.values(),dictionary.items()))\n",
    "    \n",
    "    print(len(dictionary))\n",
    "    \n",
    "    return data,count,dictionary,reverse_dictionary\n",
    "            "
   ]
  },
  {
   "cell_type": "code",
   "execution_count": 7,
   "metadata": {
    "ExecuteTime": {
     "end_time": "2020-07-28T01:55:13.011142Z",
     "start_time": "2020-07-28T01:54:53.070845Z"
    }
   },
   "outputs": [
    {
     "name": "stdout",
     "output_type": "stream",
     "text": [
      "建立字典。。。。\n",
      "字典建立完毕\n",
      "5000\n"
     ]
    }
   ],
   "source": [
    "data,count,dictionary,reverse_dictionary = bulid_dataset(words)"
   ]
  },
  {
   "cell_type": "code",
   "execution_count": 8,
   "metadata": {
    "ExecuteTime": {
     "end_time": "2020-07-28T01:55:14.383437Z",
     "start_time": "2020-07-28T01:55:13.012107Z"
    }
   },
   "outputs": [
    {
     "name": "stdout",
     "output_type": "stream",
     "text": [
      "Most common words (+UNK) [['UNK', 4602], ('3750', 2242207), ('648', 1474565), ('900', 974486), ('3370', 603377)]\n",
      "Sample data [281, 1118, 1521, 510, 191, 707, 203, 258, 65, 21]\n"
     ]
    }
   ],
   "source": [
    "print('Most common words (+UNK)', count[:5])\n",
    "print('Sample data', data[:10])\n",
    "del words  "
   ]
  },
  {
   "cell_type": "markdown",
   "metadata": {},
   "source": [
    "##### 2.  生成 Skip-Gram 的批次数据"
   ]
  },
  {
   "cell_type": "code",
   "execution_count": 9,
   "metadata": {
    "ExecuteTime": {
     "end_time": "2020-07-28T01:55:14.424328Z",
     "start_time": "2020-07-28T01:55:14.385432Z"
    }
   },
   "outputs": [
    {
     "name": "stdout",
     "output_type": "stream",
     "text": [
      "data: [('2967', 281), ('6758', 1118), ('339', 1521), ('2021', 510), ('1854', 191), ('3731', 707), ('4109', 203), ('3792', 258)]\n",
      "\n",
      "with window_size = 1:\n",
      "    batch: [('6758', 1118), ('6758', 1118), ('6758', 1118), ('6758', 1118), ('6758', 1118), ('6758', 1118), ('6758', 1118), ('6758', 1118)]\n",
      "    labels: [('2967', 281), ('339', 1521), ('2967', 281), ('339', 1521), ('2967', 281), ('339', 1521), ('2967', 281), ('339', 1521)]\n",
      "\n",
      "with window_size = 2:\n",
      "    batch: [('339', 1521), ('339', 1521), ('339', 1521), ('339', 1521), ('339', 1521), ('339', 1521), ('339', 1521), ('339', 1521)]\n",
      "    labels: [('2967', 281), ('6758', 1118), ('2021', 510), ('1854', 191), ('2967', 281), ('6758', 1118), ('2021', 510), ('1854', 191)]\n"
     ]
    }
   ],
   "source": [
    "data_index = 0\n",
    "\n",
    "def generate_batch_skip_gram(batch_size, window_size):\n",
    "\n",
    "    # 用全局变量 data_index 记录当前取到哪里，每次读取一个数据集后增加 1，如果超出结尾则又从头开始\n",
    "    global data_index                                                         \n",
    "\n",
    "    # 在 Skip-Gram 中 batch 为中心词数据集\n",
    "    # labels 为上下文数据集\n",
    "    batch = np.ndarray(shape=(batch_size), dtype=np.int32)                    \n",
    "    labels = np.ndarray(shape=(batch_size, 1), dtype=np.int32)                \n",
    "\n",
    "    # span 是指中心词及其两侧窗口 [ skip_window target skip_window ] 的总长度\n",
    "    span = 2 * window_size + 1                                                 \n",
    "\n",
    "    # buffer 用来存储 span 内部的数据\n",
    "    buffer = deque(maxlen=span)                                    \n",
    "\n",
    "   # 填充 buffer 更新 data_index\n",
    "    for _ in range(span):                                                        \n",
    "        buffer.append(data[data_index])\n",
    "        data_index = (data_index + 1) % len(data)\n",
    "\n",
    "   # 对每个中心词要取的上下文词的个数\n",
    "    num_samples = 2*window_size                                                 \n",
    "\n",
    "   # 内循环用 span 里面的数据先来得到 num_samples 个数据点\n",
    "   # 外循环重复 batch_size//num_samples 次来得到整个批次数据\n",
    "    for i in range(batch_size // num_samples):\n",
    "        k=0\n",
    "        # 得到 batch ，label，注意 label 里面没有 target 单词\n",
    "        for j in list(range(window_size))+list(range(window_size+1,2*window_size+1)):\n",
    "            batch[i * num_samples + k] = buffer[window_size]\n",
    "            labels[i * num_samples + k, 0] = buffer[j]\n",
    "            k += 1 \n",
    "\n",
    "    # 每次读取 num_samples 个数据后，span 向右移动一位得到新的 span\n",
    "    buffer.append(data[data_index])\n",
    "    data_index = (data_index + 1) % len(data)\n",
    "    return batch, labels\n",
    "\n",
    "print('data:', [reverse_dictionary[di] for di in data[:8]])\n",
    "\n",
    "for window_size in [1, 2]:\n",
    "    data_index = 0\n",
    "    batch, labels = generate_batch_skip_gram(batch_size=8, window_size=window_size)\n",
    "    print('\\nwith window_size = %d:' %window_size)\n",
    "    print('    batch:', [reverse_dictionary[bi] for bi in batch])\n",
    "    print('    labels:', [reverse_dictionary[li] for li in labels.reshape(8)])"
   ]
  },
  {
   "cell_type": "markdown",
   "metadata": {},
   "source": [
    "##### 3.  设置超参数"
   ]
  },
  {
   "cell_type": "code",
   "execution_count": 10,
   "metadata": {
    "ExecuteTime": {
     "end_time": "2020-07-28T01:55:14.437294Z",
     "start_time": "2020-07-28T01:55:14.427321Z"
    }
   },
   "outputs": [],
   "source": [
    "batch_size = 128                             \n",
    "embedding_size = 200             # embedding 向量的维度\n",
    "\n",
    "window_size = 2                 # 中心词的左右两边各取 2 个\n",
    "\n",
    "valid_size = 4                 # 随机选择一个 validation 集来评估单词的相似性\n",
    "\n",
    "valid_window = 50                # 从一个大窗口随机采样 valid 数据\n",
    "\n",
    "# 选择 valid 样本时, 取一些频率比较大的单词，也选择一些适度罕见的单词\n",
    "valid_examples = np.array(random.sample(range(valid_window), valid_size))            \n",
    "valid_examples = np.append(valid_examples,random.sample(range(1000, 1000+valid_window), valid_size),axis=0)\n",
    "\n",
    "num_sampled = 32                 # 负采样的样本个数   "
   ]
  },
  {
   "cell_type": "code",
   "execution_count": 11,
   "metadata": {
    "ExecuteTime": {
     "end_time": "2020-07-28T01:55:14.451292Z",
     "start_time": "2020-07-28T01:55:14.441283Z"
    }
   },
   "outputs": [
    {
     "data": {
      "text/plain": [
       "8"
      ]
     },
     "execution_count": 11,
     "metadata": {},
     "output_type": "execute_result"
    }
   ],
   "source": [
    "len(valid_examples)"
   ]
  },
  {
   "cell_type": "markdown",
   "metadata": {},
   "source": [
    " ##### 4.  定义模型的参数\n",
    " \n",
    " Embedding 变量用来存储词嵌入向量，初始化为 -1 到 1 之间的随机数，随着优化过程不断调整，在对 loss 函数进行优化时，会将其所有源头变量进行调整优化："
   ]
  },
  {
   "cell_type": "code",
   "execution_count": 12,
   "metadata": {
    "ExecuteTime": {
     "end_time": "2020-07-28T01:55:15.634289Z",
     "start_time": "2020-07-28T01:55:14.453251Z"
    },
    "scrolled": true
   },
   "outputs": [],
   "source": [
    "embedding = tf.Variable(tf.random.uniform([vocabulary_size, embedding_size], -1.0, 1.0))\n",
    "\n",
    "# softmax_weights 和 softmax_biases 是用来做分类的参数\n",
    "softmax_weights = tf.Variable(\n",
    "    tf.random.truncated_normal([vocabulary_size, embedding_size],\n",
    "                        stddev=0.5 / math.sqrt(embedding_size))\n",
    ")\n",
    "softmax_biases = tf.Variable(tf.random.uniform([vocabulary_size],0.0,0.01))"
   ]
  },
  {
   "cell_type": "markdown",
   "metadata": {},
   "source": [
    " ##### 5.  定义损失函数"
   ]
  },
  {
   "cell_type": "code",
   "execution_count": 13,
   "metadata": {
    "ExecuteTime": {
     "end_time": "2020-07-28T01:55:15.644230Z",
     "start_time": "2020-07-28T01:55:15.636251Z"
    }
   },
   "outputs": [],
   "source": [
    "# 输入是训练数据的 embeddings\n",
    "def get_embedding(x):\n",
    "    with tf.device('/cpu:0'):\n",
    "       # 对于X中的每一个样本查找对应的嵌入向量\n",
    "        x_embed = tf.nn.embedding_lookup(embedding, x)\n",
    "        return x_embed\n",
    "\n",
    "# 每次用一些负采样样本计算 softmax loss, \n",
    "# 用这个 loss 来优化 weights, biases, embeddings\n",
    "def nce_loss(x_embed, y):\n",
    "    y = tf.cast(y, tf.int64)\n",
    "    loss = tf.reduce_mean(\n",
    "        tf.nn.sampled_softmax_loss(\n",
    "            weights=softmax_weights, biases=softmax_biases, inputs=x_embed,\n",
    "            labels=y, num_sampled=num_sampled, num_classes=vocabulary_size)\n",
    "    )\n",
    "    return loss "
   ]
  },
  {
   "cell_type": "markdown",
   "metadata": {},
   "source": [
    "###### 定义优化算法"
   ]
  },
  {
   "cell_type": "code",
   "execution_count": 14,
   "metadata": {
    "ExecuteTime": {
     "end_time": "2020-07-28T01:55:15.661185Z",
     "start_time": "2020-07-28T01:55:15.648219Z"
    }
   },
   "outputs": [],
   "source": [
    "learning_rate = 0.1\n",
    "optimizer = tf.optimizers.SGD(learning_rate)\n",
    "# 优化过程\n",
    "def run_optimization(x, y):\n",
    "    with tf.device('/cpu:0'):\n",
    "       # 将计算封装在GradientTape中以实现自动微分\n",
    "        with tf.GradientTape() as g:\n",
    "            emb = get_embedding(x)\n",
    "            loss = nce_loss(emb, y)\n",
    "\n",
    "        # 计算梯度\n",
    "        gradients = g.gradient(loss, [embedding, softmax_weights, softmax_biases])\n",
    "\n",
    "         # 按gradients更新 W 和 b\n",
    "        optimizer.apply_gradients(zip(gradients, [embedding, softmax_weights, softmax_biases]))"
   ]
  },
  {
   "cell_type": "markdown",
   "metadata": {},
   "source": [
    "##### 定义计算单词相似性的函数\n",
    "\n",
    "用余弦距离来计算验证集中单词的相似度， norm 定义为二范数，再将词向量进行正则化得到 normalized_embeddings，这样变成了只考虑方向的单位向量，再从单位词向量矩阵中找出验证集词语所对应的向量，单词的相似性用余弦距离来表示，值越大代表越相似。"
   ]
  },
  {
   "cell_type": "code",
   "execution_count": 15,
   "metadata": {
    "ExecuteTime": {
     "end_time": "2020-07-28T01:55:15.676146Z",
     "start_time": "2020-07-28T01:55:15.664177Z"
    }
   },
   "outputs": [],
   "source": [
    "# 评估\n",
    "def evaluate(x_embed):\n",
    "     # 计算输入数据嵌入与每个嵌入向量之间的余弦相似度\n",
    "    x_embed = tf.cast(x_embed, tf.float32)\n",
    "    x_embed_norm = x_embed / tf.sqrt(tf.reduce_sum(tf.square(x_embed)))\n",
    "    embedding_norm = embedding / tf.sqrt(tf.reduce_sum(tf.square(embedding), 1, keepdims=True), tf.float32)\n",
    "    cosine_sim_op = tf.matmul(x_embed_norm, embedding_norm, transpose_b=True)\n",
    "    return cosine_sim_op"
   ]
  },
  {
   "cell_type": "markdown",
   "metadata": {},
   "source": [
    "#####  训练 Skip-Gram"
   ]
  },
  {
   "cell_type": "code",
   "execution_count": 16,
   "metadata": {
    "ExecuteTime": {
     "end_time": "2020-07-28T01:59:06.669933Z",
     "start_time": "2020-07-28T01:55:15.678139Z"
    }
   },
   "outputs": [
    {
     "name": "stdout",
     "output_type": "stream",
     "text": [
      "step: 1, loss: 3.963947\n",
      "step: 10000, loss: 3.031795\n",
      "step: 20000, loss: 2.525633\n",
      "step: 30000, loss: 0.617142\n"
     ]
    }
   ],
   "source": [
    "num_steps = 30000\n",
    "# 用于测试的单词\n",
    "# 针对给定步骤数进行训练\n",
    "for step in range(1,num_steps+1):\n",
    "    batch_x, batch_y = generate_batch_skip_gram(batch_size, window_size)\n",
    "    run_optimization(batch_x, batch_y)\n",
    "    if step % 10000 == 0 or step == 1:\n",
    "        loss = nce_loss(get_embedding(batch_x), batch_y)\n",
    "        print(\"step: %i, loss: %f\" % (step, loss))\n",
    "        \n"
   ]
  },
  {
   "cell_type": "code",
   "execution_count": 17,
   "metadata": {
    "ExecuteTime": {
     "end_time": "2020-07-28T01:59:06.713766Z",
     "start_time": "2020-07-28T01:59:06.670931Z"
    }
   },
   "outputs": [],
   "source": [
    "np.save('skip_embeddings',embedding)"
   ]
  },
  {
   "cell_type": "markdown",
   "metadata": {},
   "source": [
    "##### 使用skip_embeddings 进行文本分类"
   ]
  },
  {
   "cell_type": "code",
   "execution_count": 18,
   "metadata": {
    "ExecuteTime": {
     "end_time": "2020-07-28T01:59:06.771767Z",
     "start_time": "2020-07-28T01:59:06.714495Z"
    }
   },
   "outputs": [],
   "source": [
    "embedding1=embedding.numpy()\n",
    "embeddings_matrix = np.zeros((vocabulary_size, 200));\n",
    "for idx,emb in enumerate(embedding1):\n",
    "    embeddings_matrix[idx] = emb.tolist()"
   ]
  },
  {
   "cell_type": "code",
   "execution_count": 19,
   "metadata": {
    "ExecuteTime": {
     "end_time": "2020-07-28T01:59:29.235395Z",
     "start_time": "2020-07-28T01:59:06.774344Z"
    }
   },
   "outputs": [],
   "source": [
    "seqs = []\n",
    "gc.collect()\n",
    "for line in text:\n",
    "    word = line.split(' ')\n",
    "    seq=[ dictionary[i]  if i in dictionary.keys()  else 0 for i in word ]\n",
    "    seq=seq[:2000]+ (2000-len(seq))*[0]\n",
    "    seqs.append(seq)\n",
    "train_seqs =np.array(seqs[:45000])\n",
    "val_seqs =np.array(seqs[45000:50000])\n",
    "test_seqs=np.array(seqs[50000:])    \n",
    "labels = np.zeros((50000, 14))\n",
    "for i in range(50000):\n",
    "    labels[i][train_df.label[i]]=1\n",
    "    \n",
    "train_labels=np.array(labels[:45000])\n",
    "val_labels = np.array(labels[45000:])"
   ]
  },
  {
   "cell_type": "code",
   "execution_count": 20,
   "metadata": {
    "ExecuteTime": {
     "end_time": "2020-07-28T01:59:29.823831Z",
     "start_time": "2020-07-28T01:59:29.237135Z"
    },
    "scrolled": true
   },
   "outputs": [
    {
     "name": "stdout",
     "output_type": "stream",
     "text": [
      "Model: \"sequential\"\n",
      "_________________________________________________________________\n",
      "Layer (type)                 Output Shape              Param #   \n",
      "=================================================================\n",
      "embedding (Embedding)        (None, 2000, 200)         1000000   \n",
      "_________________________________________________________________\n",
      "dropout (Dropout)            (None, 2000, 200)         0         \n",
      "_________________________________________________________________\n",
      "conv1d (Conv1D)              (None, 1996, 32)          32032     \n",
      "_________________________________________________________________\n",
      "max_pooling1d (MaxPooling1D) (None, 499, 32)           0         \n",
      "_________________________________________________________________\n",
      "bidirectional (Bidirectional (None, 32)                6272      \n",
      "_________________________________________________________________\n",
      "dense (Dense)                (None, 14)                462       \n",
      "=================================================================\n",
      "Total params: 1,038,766\n",
      "Trainable params: 38,766\n",
      "Non-trainable params: 1,000,000\n",
      "_________________________________________________________________\n"
     ]
    }
   ],
   "source": [
    "model = tf.keras.Sequential([\n",
    "    tf.keras.layers.Embedding(vocabulary_size, 200, input_length=2000, weights=[embeddings_matrix], trainable=False),\n",
    "    tf.keras.layers.Dropout(0.2),\n",
    "    tf.keras.layers.Conv1D(32, 5, activation='relu'),\n",
    "    tf.keras.layers.MaxPooling1D(pool_size=4),\n",
    "    tf.keras.layers.Bidirectional(tf.keras.layers.LSTM(16)),\n",
    "    tf.keras.layers.Dense(14, activation='sigmoid')\n",
    "])\n",
    "model.compile(loss='categorical_crossentropy',optimizer='adam',metrics=['accuracy'])\n",
    "model.summary()"
   ]
  },
  {
   "cell_type": "code",
   "execution_count": null,
   "metadata": {
    "ExecuteTime": {
     "start_time": "2020-07-28T04:53:06.377Z"
    }
   },
   "outputs": [
    {
     "name": "stdout",
     "output_type": "stream",
     "text": [
      "Epoch 1/3\n",
      "1407/1407 [==============================] - 692s 492ms/step - loss: 0.2831 - accuracy: 0.9187 - val_loss: 0.3185 - val_accuracy: 0.9090\n",
      "Epoch 2/3\n",
      "1000/1407 [====================>.........] - ETA: 3:45 - loss: 0.2534 - accuracy: 0.9258"
     ]
    }
   ],
   "source": [
    "num_epochs = 3\n",
    "history = model.fit(train_seqs, train_labels, epochs=num_epochs, validation_data=(val_seqs, val_labels), verbose=1)"
   ]
  },
  {
   "cell_type": "code",
   "execution_count": null,
   "metadata": {
    "ExecuteTime": {
     "start_time": "2020-07-28T01:44:31.285Z"
    }
   },
   "outputs": [],
   "source": [
    "model.save('sk_self_model.h5')"
   ]
  },
  {
   "cell_type": "code",
   "execution_count": 33,
   "metadata": {
    "ExecuteTime": {
     "end_time": "2020-07-28T03:27:50.956985Z",
     "start_time": "2020-07-28T03:27:50.951279Z"
    }
   },
   "outputs": [
    {
     "data": {
      "text/plain": [
       "5000"
      ]
     },
     "execution_count": 33,
     "metadata": {},
     "output_type": "execute_result"
    }
   ],
   "source": [
    "len(val_pred)"
   ]
  },
  {
   "cell_type": "code",
   "execution_count": 35,
   "metadata": {
    "ExecuteTime": {
     "end_time": "2020-07-28T03:29:09.110223Z",
     "start_time": "2020-07-28T03:28:58.731184Z"
    }
   },
   "outputs": [
    {
     "name": "stdout",
     "output_type": "stream",
     "text": [
      "sk_f1验证集得分为 0.8720403630268966\n"
     ]
    }
   ],
   "source": [
    "val_pred = model.predict_classes(val_seqs)\n",
    "from sklearn.metrics import f1_score\n",
    "print('sk_f1验证集得分为',f1_score(train_df.label[45000:50000].values, val_pred, average='macro'))"
   ]
  },
  {
   "cell_type": "code",
   "execution_count": 36,
   "metadata": {
    "ExecuteTime": {
     "end_time": "2020-07-28T03:29:23.422121Z",
     "start_time": "2020-07-28T03:29:17.937009Z"
    }
   },
   "outputs": [
    {
     "data": {
      "text/plain": [
       "<Figure size 432x288 with 0 Axes>"
      ]
     },
     "execution_count": 36,
     "metadata": {},
     "output_type": "execute_result"
    },
    {
     "data": {
      "image/png": "[encoded data removed]",
      "text/plain": [
       "<Figure size 432x288 with 1 Axes>"
      ]
     },
     "metadata": {
      "needs_background": "light"
     },
     "output_type": "display_data"
    },
    {
     "data": {
      "image/png": "[encoded data removed]",
      "text/plain": [
       "<Figure size 432x288 with 1 Axes>"
      ]
     },
     "metadata": {
      "needs_background": "light"
     },
     "output_type": "display_data"
    },
    {
     "data": {
      "text/plain": [
       "<Figure size 432x288 with 0 Axes>"
      ]
     },
     "metadata": {},
     "output_type": "display_data"
    }
   ],
   "source": [
    "import matplotlib.image  as mpimg\n",
    "import matplotlib.pyplot as plt\n",
    "\n",
    "#-----------------------------------------------------------\n",
    "# Retrieve a list of list results on training and test data\n",
    "# sets for each training epoch\n",
    "#-----------------------------------------------------------\n",
    "acc=history.history['accuracy']\n",
    "val_acc=history.history['val_accuracy']\n",
    "loss=history.history['loss']\n",
    "val_loss=history.history['val_loss']\n",
    "\n",
    "epochs=range(len(acc)) # Get number of epochs\n",
    "\n",
    "#------------------------------------------------\n",
    "# Plot training and validation accuracy per epoch\n",
    "#------------------------------------------------\n",
    "plt.plot(epochs, acc, 'r')\n",
    "plt.plot(epochs, val_acc, 'b')\n",
    "plt.title('Training and validation accuracy')\n",
    "plt.xlabel(\"Epochs\")\n",
    "plt.ylabel(\"Accuracy\")\n",
    "plt.legend([\"Accuracy\", \"Validation Accuracy\"])\n",
    "\n",
    "plt.figure()\n",
    "\n",
    "#------------------------------------------------\n",
    "# Plot training and validation loss per epoch\n",
    "#------------------------------------------------\n",
    "plt.plot(epochs, loss, 'r')\n",
    "plt.plot(epochs, val_loss, 'b')\n",
    "plt.title('Training and validation loss')\n",
    "plt.xlabel(\"Epochs\")\n",
    "plt.ylabel(\"Loss\")\n",
    "plt.legend([\"Loss\", \"Validation Loss\"])\n",
    "\n",
    "plt.figure()\n"
   ]
  },
  {
   "cell_type": "markdown",
   "metadata": {},
   "source": [
    "##### 调包"
   ]
  },
  {
   "cell_type": "code",
   "execution_count": 1,
   "metadata": {
    "ExecuteTime": {
     "end_time": "2020-07-31T03:40:52.993324Z",
     "start_time": "2020-07-31T03:40:00.349618Z"
    }
   },
   "outputs": [],
   "source": [
    "import pandas as pd\n",
    "import numpy as np \n",
    "import gc\n",
    "import gensim\n",
    "from gensim.models.word2vec import LineSentence\n",
    "from gensim.models import Word2Vec\n",
    "import multiprocessing\n",
    "\n",
    "train_df=pd.read_csv('train_set.csv')\n",
    "test_df=pd.read_csv('test_a.csv')\n",
    "#text = pd.concat([train_df['text_nostopwords'][:50000],test_df['text_nostopwords'][:10000]],axis=0).values\n",
    "#del train_df,test_df"
   ]
  },
  {
   "cell_type": "code",
   "execution_count": 2,
   "metadata": {
    "ExecuteTime": {
     "end_time": "2020-07-31T03:41:00.259217Z",
     "start_time": "2020-07-31T03:41:00.120034Z"
    }
   },
   "outputs": [],
   "source": [
    "text_all = pd.concat([train_df['text_nostopwords'][:50000],test_df['text_nostopwords'][:10000]]).values.tolist()"
   ]
  },
  {
   "cell_type": "code",
   "execution_count": 3,
   "metadata": {
    "ExecuteTime": {
     "end_time": "2020-07-31T03:41:01.892007Z",
     "start_time": "2020-07-31T03:41:01.853400Z"
    }
   },
   "outputs": [],
   "source": [
    "def word2vec(sg=1):\n",
    "    model = Word2Vec(LineSentence(text_all),\n",
    "                 size=100,\n",
    "                 window=5,\n",
    "                 sg=sg,\n",
    "                 hs=1,\n",
    "                 min_count=10,\n",
    "                 iter=10,\n",
    "                 workers=8)\n",
    "    if sg==1:\n",
    "        model.save('sg.model')\n",
    "    else:\n",
    "        model.save('cb.model')\n",
    "    \n",
    "    return \n",
    "\n"
   ]
  },
  {
   "cell_type": "markdown",
   "metadata": {
    "ExecuteTime": {
     "end_time": "2020-07-27T07:14:39.465469Z",
     "start_time": "2020-07-27T07:14:38.917843Z"
    }
   },
   "source": [
    "\n",
    "\n",
    "\n",
    "\n",
    "#### TextCNN\n",
    "\n",
    "TextCNN利用CNN（卷积神经网络）进行文本特征抽取，不同大小的卷积核分别抽取n-gram特征，卷积计算出的特征图经过MaxPooling保留最大的特征值，然后将拼接成一个向量作为文本的表示。\n",
    "\n",
    "这里我们基于TextCNN原始论文的设定，分别采用了100个大小为2,3,4的卷积核，最后得到的文本向量大小为100*3=300维。\n",
    "\n",
    "\n",
    "\n",
    "![](https://img-blog.csdnimg.cn/20200714205932720.jpeg)\n",
    "\n",
    "#### TextRNN\n",
    "\n",
    "TextRNN利用RNN（循环神经网络）进行文本特征抽取，由于文本本身是一种序列，而LSTM天然适合建模序列数据。TextRNN将句子中每个词的词向量依次输入到双向双层LSTM，分别将两个方向最后一个有效位置的隐藏层拼接成一个向量作为文本的表示。\n",
    "\n",
    "\n",
    "![5](https://img-blog.csdnimg.cn/20200714210806492.png)\n",
    "\n",
    "### 基于TextCNN、TextRNN的文本表示\n",
    "\n",
    "#### TextCNN\n",
    "\n",
    "* 模型搭建\n",
    "\n",
    "```\n",
    "self.filter_sizes = [2, 3, 4]  # n-gram window\n",
    "self.out_channel = 100\n",
    "self.convs = nn.ModuleList([nn.Conv2d(1, self.out_channel, (filter_size, input_size), bias=True) for filter_size in self.filter_sizes])\n",
    "```\n",
    "\n",
    "* 前向传播\n",
    "\n",
    "```\n",
    "pooled_outputs = []\n",
    "for i in range(len(self.filter_sizes)):\n",
    "    filter_height = sent_len - self.filter_sizes[i] + 1\n",
    "    conv = self.convs[i](batch_embed)\n",
    "    hidden = F.relu(conv)  # sen_num x out_channel x filter_height x 1\n",
    "\n",
    "    mp = nn.MaxPool2d((filter_height, 1))  # (filter_height, filter_width)\n",
    "    # sen_num x out_channel x 1 x 1 -> sen_num x out_channel\n",
    "    pooled = mp(hidden).reshape(sen_num, self.out_channel)\n",
    "    \n",
    "    pooled_outputs.append(pooled)\n",
    "```\n",
    "\n",
    "#### TextRNN\n",
    "\n",
    "* 模型搭建\n",
    "\n",
    "```\n",
    "input_size = config.word_dims\n",
    "\n",
    "self.word_lstm = LSTM(\n",
    "    input_size=input_size,\n",
    "    hidden_size=config.word_hidden_size,\n",
    "    num_layers=config.word_num_layers,\n",
    "    batch_first=True,\n",
    "    bidirectional=True,\n",
    "    dropout_in=config.dropout_input,\n",
    "    dropout_out=config.dropout_hidden,\n",
    ")\n",
    "```\n",
    "\n",
    "* 前向传播\n",
    "\n",
    "```\n",
    "hiddens, _ = self.word_lstm(batch_embed, batch_masks)  # sent_len x sen_num x hidden*2\n",
    "hiddens.transpose_(1, 0)  # sen_num x sent_len x hidden*2\n",
    "\n",
    "if self.training:\n",
    "    hiddens = drop_sequence_sharedmask(hiddens, self.dropout_mlp)\n",
    "```\n",
    "\n",
    "### 使用HAN用于文本分类\n",
    "\n",
    "[Hierarchical Attention Network for Document Classification](https://link.zhihu.com/?target=http%3A//www.aclweb.org/anthology/N16-1174)(HAN)基于层级注意力，在单词和句子级别分别编码并基于注意力获得文档的表示，然后经过Softmax进行分类。其中word encoder的作用是获得句子的表示，可以替换为上节提到的TextCNN和TextRNN，也可以替换为下节中的BERT。\n",
    "\n",
    "\n",
    "\n",
    "![Sequence Intent Classification Using Hierarchical Attention...](https://img-blog.csdnimg.cn/20200714210015326.png)\n",
    "\n",
    "### 本章小结\n",
    "\n",
    "本章介绍了Word2Vec的使用，以及TextCNN、TextRNN的原理和训练，最后介绍了用于长文档分类的HAN。\n",
    "\n",
    "### 本章作业\n",
    "\n",
    "- 尝试通过Word2Vec训练词向量\n",
    "- 尝试使用TextCNN、TextRNN完成文本表示\n",
    "- 尝试使用HAN进行文本分类\n",
    "\n",
    "**参考：**\n",
    "\n",
    "1. https://mp.weixin.qq.com/s/I-yeHQopTFdNk67Ir_iWiA\n",
    "2. https://github.com/hecongqing/2018-daguan-competition\n",
    "\n",
    "\n"
   ]
  },
  {
   "cell_type": "markdown",
   "metadata": {},
   "source": [
    "**参考：**\n",
    "\n",
    "1. [CS224n笔记2 词的向量表示：word2vec](http://www.hankcs.com/nlp/word-vector-representations-word2vec.html)\n",
    "\n",
    "2. [斯坦福大学深度学习与自然语言处理第二讲：词向量 ](http://www.52nlp.cn/%E6%96%AF%E5%9D%A6%E7%A6%8F%E5%A4%A7%E5%AD%A6%E6%B7%B1%E5%BA%A6%E5%AD%A6%E4%B9%A0%E4%B8%8E%E8%87%AA%E7%84%B6%E8%AF%AD%E8%A8%80%E5%A4%84%E7%90%86%E7%AC%AC%E4%BA%8C%E8%AE%B2%E8%AF%8D%E5%90%91%E9%87%8F)\n",
    "\n",
    "3. [(Stanford CS224d) Deep Learning and NLP课程笔记（三）：GloVe与模型的评估](https://www.cnblogs.com/iloveai/p/cs224d-lecture3-note.html)\n",
    "\n",
    "4. [http://www.cnblogs.com/pinard/p/7249903.html](http://www.cnblogs.com/pinard/p/7249903.html)\n",
    "\n",
    "5. [https://blog.csdn.net/yinkun6514/article/details/79218736](https://blog.csdn.net/yinkun6514/article/details/79218736)\n",
    "\n",
    "6. [https://www.leiphone.com/news/201706/PamWKpfRFEI42McI.html](https://www.leiphone.com/news/201706/PamWKpfRFEI42McI.html)"
   ]
  },
  {
   "cell_type": "code",
   "execution_count": null,
   "metadata": {},
   "outputs": [],
   "source": []
  }
 ],
 "metadata": {
  "kernelspec": {
   "display_name": "Python 3",
   "language": "python",
   "name": "python3"
  },
  "language_info": {
   "codemirror_mode": {
    "name": "ipython",
    "version": 3
   },
   "file_extension": ".py",
   "mimetype": "text/x-python",
   "name": "python",
   "nbconvert_exporter": "python",
   "pygments_lexer": "ipython3",
   "version": "3.7.7"
  },
  "toc": {
   "base_numbering": 1,
   "nav_menu": {},
   "number_sections": true,
   "sideBar": true,
   "skip_h1_title": false,
   "title_cell": "Table of Contents",
   "title_sidebar": "Contents",
   "toc_cell": false,
   "toc_position": {
    "height": "calc(100% - 180px)",
    "left": "10px",
    "top": "150px",
    "width": "256px"
   },
   "toc_section_display": true,
   "toc_window_display": true
  }
 },
 "nbformat": 4,
 "nbformat_minor": 2
}
