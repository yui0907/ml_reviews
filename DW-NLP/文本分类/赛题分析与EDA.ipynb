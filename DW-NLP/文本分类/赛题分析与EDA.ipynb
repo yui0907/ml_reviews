{
 "cells": [
  {
   "cell_type": "code",
   "execution_count": 2,
   "metadata": {
    "ExecuteTime": {
     "end_time": "2020-07-21T09:31:55.673768Z",
     "start_time": "2020-07-21T09:31:55.652862Z"
    },
    "colab": {
     "base_uri": "https://localhost:8080/",
     "height": 53
    },
    "colab_type": "code",
    "id": "Vs6s_KP41ZB4",
    "outputId": "f5514c9e-42f7-45ec-bcc9-53861dcc7db1"
   },
   "outputs": [
    {
     "data": {
      "text/plain": [
       "'!wget https://tianchi-competition.oss-cn-hangzhou.aliyuncs.com/531810/train_set.csv.zip\\n!unzip train_set.csv.zip\\n!wget https://tianchi-competition.oss-cn-hangzhou.aliyuncs.com/531810/test_a.csv.zip\\n!unzip test_a.csv.zip'"
      ]
     },
     "execution_count": 2,
     "metadata": {},
     "output_type": "execute_result"
    }
   ],
   "source": [
    "'''!wget https://tianchi-competition.oss-cn-hangzhou.aliyuncs.com/531810/train_set.csv.zip\n",
    "!unzip train_set.csv.zip\n",
    "!wget https://tianchi-competition.oss-cn-hangzhou.aliyuncs.com/531810/test_a.csv.zip\n",
    "!unzip test_a.csv.zip'''"
   ]
  },
  {
   "cell_type": "code",
   "execution_count": 3,
   "metadata": {
    "ExecuteTime": {
     "end_time": "2020-07-21T09:31:55.917625Z",
     "start_time": "2020-07-21T09:31:55.897641Z"
    },
    "colab": {},
    "colab_type": "code",
    "id": "HGhvKTJ82Quy"
   },
   "outputs": [],
   "source": [
    "import pandas as pd\n",
    "sub_1 = pd.read_csv('test_a_sample_submit.csv')\n",
    "train_df = pd.read_csv('train_set.csv',sep='\\t')\n",
    "test_df  =  pd.read_csv('test_a.csv',sep='\\t')"
   ]
  },
  {
   "cell_type": "code",
   "execution_count": 5,
   "metadata": {
    "ExecuteTime": {
     "end_time": "2020-07-21T09:32:05.552685Z",
     "start_time": "2020-07-21T09:32:05.545703Z"
    },
    "colab": {
     "base_uri": "https://localhost:8080/",
     "height": 53
    },
    "colab_type": "code",
    "id": "I1CCG41d2ZwI",
    "outputId": "39d80c90-8eb0-41cb-b3ee-3025e0d207cb"
   },
   "outputs": [
    {
     "name": "stdout",
     "output_type": "stream",
     "text": [
      "(200000, 2)\n",
      "(50000, 1)\n"
     ]
    }
   ],
   "source": [
    "print(train_df.shape)\n",
    "print(test_df.shape)"
   ]
  },
  {
   "cell_type": "markdown",
   "metadata": {
    "colab_type": "text",
    "id": "bz1_j9ii5Qfh"
   },
   "source": [
    "### 赛题分析\n",
    "#### 1.数据\n",
    "赛题数据为新闻文本，并按照**字符级别进行匿名处理**。整合划分出14个候选分类类别：财经、彩票、房产、股票、家居、教育、科技、社会、时尚、时政、体育、星座、游戏、娱乐的文本数据。\n",
    "赛题数据由以下几个部分构成：训练集20w条样本，测试集A包括5w条样本，测试集B包括5w条样本。\n",
    "\n",
    "#### 2.指标\n",
    "评价标准为类别f1_score的均值，选手提交结果与实际测试集的类别进行对比，结果越大越好。\n",
    "\n",
    "计算公式：\n",
    "$$F1 = 2 * \\frac{(precision * recall) }{(precision + recall)}$$\n",
    "\n",
    "#### 3.赛题思路分析\n",
    "赛题本质是一个文本分类问题，需要根据每句的字符进行分类。但赛题给出的数据是匿名化的，**不能直接使用中文分词等操作**，这个是赛题的难点。\n",
    "\n",
    "因此本次赛题的难点是需要**对匿名字符进行建模**，进而完成文本分类的过程。由于文本数据是一种典型的非结构化数据，因此可能涉及到特征提取和分类模型两个部分。为了减低参赛难度，我们提供了一些解题思路供大家参考：\n",
    "\n",
    "**思路1**：TF-IDF + 机器学习分类器\n",
    "直接使用TF-IDF对文本提取特征，并使用分类器进行分类。在分类器的选择上，可以使用SVM、LR、或者XGBoost。\n",
    "\n",
    "**思路2**：FastText\n",
    "FastText是入门款的词向量，利用Facebook提供的FastText工具，可以快速构建出分类器。\n",
    "\n",
    "**思路3**：WordVec + 深度学习分类器\n",
    "WordVec是进阶款的词向量，并通过构建深度学习分类完成分类。深度学习分类的网络结构可以选择TextCNN、TextRNN或者BiLSTM。\n",
    "\n",
    "**思路4**：Bert词向量\n",
    "Bert是高配款的词向量，具有强大的建模学习能力。\n",
    "\n",
    "​\t\n",
    "\n"
   ]
  },
  {
   "cell_type": "markdown",
   "metadata": {
    "colab_type": "text",
    "id": "Xz4sybx0-GnL"
   },
   "source": [
    "### 基础数据分析\n",
    "在读取完成数据集后，我们还可以对数据集进行数据分析的操作。虽然对于非结构数据并不需要做很多的数据分析，但通过数据分析还是可以找出一些规律的。\n",
    "\n",
    "从类似如下问题找到一些支撑后续数据分析的依据\n",
    "- 赛题数据中，新闻文本的长度是多少？\n",
    "- 赛题数据的类别分布是怎么样的，哪些类别比较多？\n",
    "- 赛题数据中，字符分布是怎么样的？\n",
    "\n",
    "\n",
    "\n"
   ]
  },
  {
   "cell_type": "markdown",
   "metadata": {
    "colab_type": "text",
    "id": "SNwo7zJRLn6e"
   },
   "source": [
    "#### 1.文本长度分析\n",
    "我们先来看看训练集和测试集每个句子的长度\n",
    "\n",
    "对新闻句子的统计可以得出，本次赛题给定的文本比较长，每个句子平均由907个字符构成，最短的句子长度为2，最长的句子长度为57921。\n",
    "\n",
    "测试集与训练集类似，只不过测试集上最小的文本长度是14.而训练集上是2.但是训练集上2-13的样本仅有15个\n",
    "\n",
    "\n",
    "大部分句子的长度都集中在2000以内。"
   ]
  },
  {
   "cell_type": "code",
   "execution_count": 6,
   "metadata": {
    "ExecuteTime": {
     "end_time": "2020-07-21T09:32:12.488250Z",
     "start_time": "2020-07-21T09:32:05.555677Z"
    },
    "colab": {
     "base_uri": "https://localhost:8080/",
     "height": 179
    },
    "colab_type": "code",
    "id": "djFxXhhK8JOR",
    "outputId": "d1c749a5-2255-4806-f376-7121c0910714"
   },
   "outputs": [
    {
     "name": "stdout",
     "output_type": "stream",
     "text": [
      "训练集文本长度统计信息： count    200000.000000\n",
      "mean        907.207110\n",
      "std         996.029036\n",
      "min           2.000000\n",
      "25%         374.000000\n",
      "50%         676.000000\n",
      "75%        1131.000000\n",
      "max       57921.000000\n",
      "Name: text_len, dtype: float64\n"
     ]
    }
   ],
   "source": [
    "train_df['text_len'] = train_df['text'].apply(lambda x: len(x.split(' ')))\n",
    "print('训练集文本长度统计信息：',train_df['text_len'].describe())"
   ]
  },
  {
   "cell_type": "code",
   "execution_count": 7,
   "metadata": {
    "ExecuteTime": {
     "end_time": "2020-07-21T09:32:13.341894Z",
     "start_time": "2020-07-21T09:32:12.490246Z"
    },
    "colab": {
     "base_uri": "https://localhost:8080/",
     "height": 313
    },
    "colab_type": "code",
    "id": "xEOzWExzAXQi",
    "outputId": "8c8ee920-a171-4675-f26c-2a7dd21e07a6"
   },
   "outputs": [
    {
     "data": {
      "text/plain": [
       "Text(0.5, 1.0, 'Train-set Histogram of char count')"
      ]
     },
     "execution_count": 7,
     "metadata": {},
     "output_type": "execute_result"
    },
    {
     "data": {
      "image/png": "[encoded data removed]",
      "text/plain": [
       "<Figure size 432x288 with 1 Axes>"
      ]
     },
     "metadata": {
      "needs_background": "light"
     },
     "output_type": "display_data"
    }
   ],
   "source": [
    "import matplotlib.pyplot  as plt \n",
    "_ = plt.hist(train_df['text_len'], bins=200)\n",
    "plt.xlabel('Text char count')\n",
    "plt.title(\"Train-set Histogram of char count\")"
   ]
  },
  {
   "cell_type": "code",
   "execution_count": 8,
   "metadata": {
    "ExecuteTime": {
     "end_time": "2020-07-21T09:32:15.075654Z",
     "start_time": "2020-07-21T09:32:13.342893Z"
    },
    "colab": {
     "base_uri": "https://localhost:8080/",
     "height": 179
    },
    "colab_type": "code",
    "id": "IyXXBwhi69X0",
    "outputId": "86949ccb-0f9f-4675-b949-7182d19cc233"
   },
   "outputs": [
    {
     "name": "stdout",
     "output_type": "stream",
     "text": [
      "测试集文本长度统计信息： count    50000.000000\n",
      "mean       909.844960\n",
      "std       1032.313375\n",
      "min         14.000000\n",
      "25%        370.000000\n",
      "50%        676.000000\n",
      "75%       1133.000000\n",
      "max      41861.000000\n",
      "Name: text_len, dtype: float64\n"
     ]
    }
   ],
   "source": [
    "test_df['text_len'] = test_df['text'].apply(lambda x: len(x.split(' ')))\n",
    "print('测试集文本长度统计信息：',test_df['text_len'].describe())"
   ]
  },
  {
   "cell_type": "code",
   "execution_count": 9,
   "metadata": {
    "ExecuteTime": {
     "end_time": "2020-07-21T09:32:15.461612Z",
     "start_time": "2020-07-21T09:32:15.077652Z"
    },
    "colab": {
     "base_uri": "https://localhost:8080/",
     "height": 313
    },
    "colab_type": "code",
    "id": "50CIXj3Z73mw",
    "outputId": "6dd5a3fe-8871-4791-b059-d4a09c4a1cfb"
   },
   "outputs": [
    {
     "data": {
      "text/plain": [
       "Text(0.5, 1.0, 'Test-set Histogram of char count')"
      ]
     },
     "execution_count": 9,
     "metadata": {},
     "output_type": "execute_result"
    },
    {
     "data": {
      "image/png": "[encoded data removed]",
      "text/plain": [
       "<Figure size 432x288 with 1 Axes>"
      ]
     },
     "metadata": {
      "needs_background": "light"
     },
     "output_type": "display_data"
    }
   ],
   "source": [
    "_ = plt.hist(test_df['text_len'], bins=200)\n",
    "plt.xlabel('Text char count')\n",
    "plt.title(\"Test-set Histogram of char count\")"
   ]
  },
  {
   "cell_type": "code",
   "execution_count": 10,
   "metadata": {
    "ExecuteTime": {
     "end_time": "2020-07-21T09:32:15.477531Z",
     "start_time": "2020-07-21T09:32:15.462606Z"
    },
    "colab": {
     "base_uri": "https://localhost:8080/",
     "height": 35
    },
    "colab_type": "code",
    "id": "M0rDu4kb7yIQ",
    "outputId": "2884e330-f753-4cf8-efaf-75cb3291908f"
   },
   "outputs": [
    {
     "data": {
      "text/plain": [
       "15"
      ]
     },
     "execution_count": 10,
     "metadata": {},
     "output_type": "execute_result"
    }
   ],
   "source": [
    "train_df[train_df['text_len']<14].shape[0]\n"
   ]
  },
  {
   "cell_type": "markdown",
   "metadata": {
    "colab_type": "text",
    "id": "I-QeTK9n7Tip"
   },
   "source": [
    "#### 2.新闻类别分布\n",
    "\n",
    "接下来可以对数据集的类别进行分布统计，具体统计每类新闻的样本个数。\n",
    "\n",
    "在数据集中标签的对应的关系如下：{'科技': 0, '股票': 1, '体育': 2, '娱乐': 3, '时政': 4, '社会': 5, '教育': 6, '财经': 7, '家居': 8, '游戏': 9, '房产': 10, '时尚': 11, '彩票': 12, '星座': 13}\n",
    "\n",
    "从统计结果可以看出，赛题的数据集类别分布存在较为不均匀的情况。在训练集中科技类新闻最多，其次是股票类新闻，最少的新闻是星座新闻。"
   ]
  },
  {
   "cell_type": "code",
   "execution_count": 11,
   "metadata": {
    "ExecuteTime": {
     "end_time": "2020-07-21T09:32:15.668295Z",
     "start_time": "2020-07-21T09:32:15.481517Z"
    },
    "colab": {
     "base_uri": "https://localhost:8080/",
     "height": 316
    },
    "colab_type": "code",
    "id": "olDheQGa33WF",
    "outputId": "f54c0104-e883-41ea-dfb1-952cdadbb02c"
   },
   "outputs": [
    {
     "data": {
      "text/plain": [
       "Text(0.5, 0, 'category')"
      ]
     },
     "execution_count": 11,
     "metadata": {},
     "output_type": "execute_result"
    },
    {
     "data": {
      "image/png": "[encoded data removed]",
      "text/plain": [
       "<Figure size 432x288 with 1 Axes>"
      ]
     },
     "metadata": {
      "needs_background": "light"
     },
     "output_type": "display_data"
    }
   ],
   "source": [
    "train_df['label'].value_counts().plot(kind='bar')\n",
    "plt.title('News class count')\n",
    "plt.xlabel(\"category\")"
   ]
  },
  {
   "cell_type": "markdown",
   "metadata": {
    "colab_type": "text",
    "id": "tdxT-c3yEQZT"
   },
   "source": [
    "#### 3.字符分布统计\n",
    "接下来可以统计每个字符出现的次数，首先可以将训练集中所有的句子进行拼接进而划分为字符，并统计每个字符的个数。\n",
    "\n",
    "**由于实在是太慢了，这里采样分析20000条**"
   ]
  },
  {
   "cell_type": "code",
   "execution_count": 12,
   "metadata": {
    "ExecuteTime": {
     "end_time": "2020-07-21T09:32:15.801962Z",
     "start_time": "2020-07-21T09:32:15.670257Z"
    }
   },
   "outputs": [],
   "source": [
    "train_df['smp_weights']=train_df.label.apply(lambda x:x+1)\n",
    "train_sample=train_df.sample(n=20000,weights='smp_weights',random_state=43)"
   ]
  },
  {
   "cell_type": "code",
   "execution_count": 13,
   "metadata": {
    "ExecuteTime": {
     "end_time": "2020-07-21T09:32:15.964651Z",
     "start_time": "2020-07-21T09:32:15.802903Z"
    }
   },
   "outputs": [
    {
     "data": {
      "text/plain": [
       "Text(0.5, 0, 'category')"
      ]
     },
     "execution_count": 13,
     "metadata": {},
     "output_type": "execute_result"
    },
    {
     "data": {
      "image/png": "[encoded data removed]",
      "text/plain": [
       "<Figure size 432x288 with 1 Axes>"
      ]
     },
     "metadata": {
      "needs_background": "light"
     },
     "output_type": "display_data"
    }
   ],
   "source": [
    "train_sample['label'].value_counts().plot(kind='bar')\n",
    "plt.title('News class count')\n",
    "plt.xlabel(\"category\")"
   ]
  },
  {
   "cell_type": "code",
   "execution_count": 14,
   "metadata": {
    "ExecuteTime": {
     "end_time": "2020-07-21T09:32:19.717288Z",
     "start_time": "2020-07-21T09:32:15.965648Z"
    },
    "colab": {
     "base_uri": "https://localhost:8080/",
     "height": 71
    },
    "colab_type": "code",
    "id": "DfofVPX9Egw3",
    "outputId": "047b4f0e-b1c1-47d8-d4aa-ea82249d6099"
   },
   "outputs": [
    {
     "name": "stdout",
     "output_type": "stream",
     "text": [
      "5775\n",
      "('3750', 775036)\n",
      "('4710', 1)\n"
     ]
    }
   ],
   "source": [
    "from collections import Counter\n",
    "all_lines = ' '.join(list(train_sample['text']))\n",
    "word_count = Counter(all_lines.split(\" \"))\n",
    "word_count = sorted(word_count.items(), key=lambda d:d[1], reverse = True)\n",
    "\n",
    "print(len(word_count))\n",
    "# 6869\n",
    "print(word_count[0])\n",
    "# ('3750', 7482224)\n",
    "\n",
    "print(word_count[-1])\n",
    "# ('3133', 1)\n"
   ]
  },
  {
   "cell_type": "markdown",
   "metadata": {
    "colab_type": "text",
    "id": "VJN-p-jiHYCQ"
   },
   "source": [
    "从统计结果中可以看出，在训练集中总共包括5775个字，其中编号3750的字出现的次数最多。\n",
    "\n",
    "这里还可以根据字在每个句子的出现情况，反推出标点符号。下面代码统计了不同字符在句子中出现的次数，其中字符3750，字符900和字符648在2w新闻的覆盖率接近99%，很有可能是标点符号。"
   ]
  },
  {
   "cell_type": "code",
   "execution_count": 15,
   "metadata": {
    "ExecuteTime": {
     "end_time": "2020-07-21T09:32:22.596066Z",
     "start_time": "2020-07-21T09:32:19.719283Z"
    },
    "colab": {
     "base_uri": "https://localhost:8080/",
     "height": 71
    },
    "colab_type": "code",
    "id": "TXlWt4hSHbz_",
    "outputId": "e1c9111e-922b-4579-b614-171c772c1b1b"
   },
   "outputs": [
    {
     "name": "stdout",
     "output_type": "stream",
     "text": [
      "('3750', 19755)\n",
      "('900', 19675)\n",
      "('648', 19244)\n"
     ]
    }
   ],
   "source": [
    "train_sample['text_unique'] = train_sample['text'].apply(lambda x: ' '.join(list(set(x.split(' ')))))\n",
    "all_lines = ' '.join(list(train_sample['text_unique']))\n",
    "word_count = Counter(all_lines.split(\" \"))\n",
    "word_count = sorted(word_count.items(), key=lambda d:int(d[1]), reverse = True)\n",
    "\n",
    "print(word_count[0])\n",
    "print(word_count[1])\n",
    "print(word_count[2])\n"
   ]
  },
  {
   "cell_type": "markdown",
   "metadata": {
    "colab_type": "text",
    "id": "ZZjKARK0JKfH"
   },
   "source": [
    "#### 4.文章平均句子长度统计\n",
    "如果将3750、900、648当作标点符号，训练集的平均句子长度是80.8；测试集的平均句子长度是81.1；\n",
    "\n",
    "这个长度似乎在中文中属于比较长的长度；一般25字以上的就是复杂句了。因此，可能并不只是有这三个标点；或者这三个并不全是标点。具体的待后面分析。"
   ]
  },
  {
   "cell_type": "code",
   "execution_count": 16,
   "metadata": {
    "ExecuteTime": {
     "end_time": "2020-07-21T09:32:42.839766Z",
     "start_time": "2020-07-21T09:32:22.598063Z"
    },
    "colab": {},
    "colab_type": "code",
    "id": "si4nUWEDJwAW"
   },
   "outputs": [],
   "source": [
    "import re\n",
    "train_df['text_sent_cnt']=train_df['text'].apply(lambda x : len(re.split('3750|900|648',x)))\n",
    "test_df['text_sent_cnt']=test_df['text'].apply(lambda x : len(re.split('3750|900|648',x)))"
   ]
  },
  {
   "cell_type": "code",
   "execution_count": 17,
   "metadata": {
    "ExecuteTime": {
     "end_time": "2020-07-21T09:32:42.853542Z",
     "start_time": "2020-07-21T09:32:42.841491Z"
    },
    "colab": {
     "base_uri": "https://localhost:8080/",
     "height": 179
    },
    "colab_type": "code",
    "id": "9B__YAimKJGm",
    "outputId": "a35b71a5-8ee5-44af-88af-f985b4833e73"
   },
   "outputs": [
    {
     "name": "stdout",
     "output_type": "stream",
     "text": [
      "训练集句子长度统计： count    200000.000000\n",
      "mean         80.802370\n",
      "std          86.955448\n",
      "min           1.000000\n",
      "25%          29.000000\n",
      "50%          57.000000\n",
      "75%         103.000000\n",
      "max        3460.000000\n",
      "Name: text_sent_cnt, dtype: float64\n"
     ]
    }
   ],
   "source": [
    "print('训练集句子长度统计：',train_df['text_sent_cnt'].describe())"
   ]
  },
  {
   "cell_type": "code",
   "execution_count": 18,
   "metadata": {
    "ExecuteTime": {
     "end_time": "2020-07-21T09:32:42.888227Z",
     "start_time": "2020-07-21T09:32:42.855048Z"
    },
    "colab": {
     "base_uri": "https://localhost:8080/",
     "height": 179
    },
    "colab_type": "code",
    "id": "y7K0i7aiJ_mV",
    "outputId": "17c8163a-a0f9-4030-b085-64e142df34e0"
   },
   "outputs": [
    {
     "name": "stdout",
     "output_type": "stream",
     "text": [
      "测试集句子长度统计： count    50000.000000\n",
      "mean        81.061160\n",
      "std         88.328573\n",
      "min          1.000000\n",
      "25%         29.000000\n",
      "50%         57.000000\n",
      "75%        104.000000\n",
      "max       2856.000000\n",
      "Name: text_sent_cnt, dtype: float64\n"
     ]
    }
   ],
   "source": [
    "print('测试集句子长度统计：',test_df['text_sent_cnt'].describe())"
   ]
  },
  {
   "cell_type": "markdown",
   "metadata": {
    "colab_type": "text",
    "id": "Z2rSjR2CLjrz"
   },
   "source": [
    "#### 5.统计每类新闻中出现次数最多的字符\n",
    "\n",
    "**--也是用的样本数据**\n"
   ]
  },
  {
   "cell_type": "code",
   "execution_count": 19,
   "metadata": {
    "ExecuteTime": {
     "end_time": "2020-07-21T09:32:42.902164Z",
     "start_time": "2020-07-21T09:32:42.889198Z"
    }
   },
   "outputs": [],
   "source": [
    "train_sample=train_sample.reset_index(drop=True)"
   ]
  },
  {
   "cell_type": "code",
   "execution_count": 20,
   "metadata": {
    "ExecuteTime": {
     "end_time": "2020-07-21T09:33:29.809558Z",
     "start_time": "2020-07-21T09:32:42.903161Z"
    },
    "colab": {},
    "colab_type": "code",
    "id": "wz_IZ4V_V-zQ"
   },
   "outputs": [],
   "source": [
    "from collections import  defaultdict\n",
    "class_text_dict=defaultdict(str)\n",
    "\n",
    "for i in range(train_sample.shape[0]):\n",
    "    class_text_dict[train_sample.loc[i]['label']]+=train_sample.loc[i]['text']+' '\n"
   ]
  },
  {
   "cell_type": "code",
   "execution_count": 38,
   "metadata": {
    "ExecuteTime": {
     "end_time": "2020-07-21T09:43:12.530789Z",
     "start_time": "2020-07-21T09:43:09.620016Z"
    },
    "colab": {
     "base_uri": "https://localhost:8080/",
     "height": 73
    },
    "colab_type": "code",
    "id": "VQZJQc20Zcwd",
    "outputId": "0acd4dd5-dfc5-4290-d5e9-0122b60ca5d4"
   },
   "outputs": [],
   "source": [
    "from collections import Counter\n",
    "class_text_count = {}\n",
    "for key in class_text_dict:\n",
    "    class_count = Counter(class_text_dict[key].split(' '))\n",
    "    class_count = sorted(class_count.items(),key=lambda w:w[1],reverse=True)\n",
    "    class_text_count[key] = class_count[:10]   \n"
   ]
  },
  {
   "cell_type": "code",
   "execution_count": 39,
   "metadata": {
    "ExecuteTime": {
     "end_time": "2020-07-21T09:43:12.582823Z",
     "start_time": "2020-07-21T09:43:12.530789Z"
    }
   },
   "outputs": [
    {
     "data": {
      "text/html": [
       "<div>\n",
       "<style scoped>\n",
       "    .dataframe tbody tr th:only-of-type {\n",
       "        vertical-align: middle;\n",
       "    }\n",
       "\n",
       "    .dataframe tbody tr th {\n",
       "        vertical-align: top;\n",
       "    }\n",
       "\n",
       "    .dataframe thead th {\n",
       "        text-align: right;\n",
       "    }\n",
       "</style>\n",
       "<table border=\"1\" class=\"dataframe\">\n",
       "  <thead>\n",
       "    <tr style=\"text-align: right;\">\n",
       "      <th></th>\n",
       "      <th>6</th>\n",
       "      <th>0</th>\n",
       "      <th>2</th>\n",
       "      <th>7</th>\n",
       "      <th>8</th>\n",
       "      <th>4</th>\n",
       "      <th>5</th>\n",
       "      <th>3</th>\n",
       "      <th>12</th>\n",
       "      <th>10</th>\n",
       "      <th>1</th>\n",
       "      <th>9</th>\n",
       "      <th>13</th>\n",
       "      <th>11</th>\n",
       "    </tr>\n",
       "  </thead>\n",
       "  <tbody>\n",
       "    <tr>\n",
       "      <th>0</th>\n",
       "      <td>(3750, 80967)</td>\n",
       "      <td>(3750, 28173)</td>\n",
       "      <td>(3750, 104241)</td>\n",
       "      <td>(3750, 79684)</td>\n",
       "      <td>(3750, 55894)</td>\n",
       "      <td>(3750, 45186)</td>\n",
       "      <td>(3750, 101924)</td>\n",
       "      <td>(3750, 74228)</td>\n",
       "      <td>(3750, 26109)</td>\n",
       "      <td>(3750, 44998)</td>\n",
       "      <td>(3750, 59851)</td>\n",
       "      <td>(3750, 44012)</td>\n",
       "      <td>(3750, 8633)</td>\n",
       "      <td>(3750, 21136)</td>\n",
       "    </tr>\n",
       "    <tr>\n",
       "      <th>1</th>\n",
       "      <td>(648, 60097)</td>\n",
       "      <td>(648, 21557)</td>\n",
       "      <td>(648, 69644)</td>\n",
       "      <td>(648, 47756)</td>\n",
       "      <td>(648, 46268)</td>\n",
       "      <td>(648, 28651)</td>\n",
       "      <td>(648, 46196)</td>\n",
       "      <td>(648, 47502)</td>\n",
       "      <td>(4464, 15645)</td>\n",
       "      <td>(648, 29123)</td>\n",
       "      <td>(648, 35598)</td>\n",
       "      <td>(648, 38286)</td>\n",
       "      <td>(648, 6817)</td>\n",
       "      <td>(648, 17444)</td>\n",
       "    </tr>\n",
       "    <tr>\n",
       "      <th>2</th>\n",
       "      <td>(900, 38029)</td>\n",
       "      <td>(900, 12896)</td>\n",
       "      <td>(900, 44240)</td>\n",
       "      <td>(900, 34308)</td>\n",
       "      <td>(900, 21074)</td>\n",
       "      <td>(900, 24059)</td>\n",
       "      <td>(900, 43226)</td>\n",
       "      <td>(900, 28898)</td>\n",
       "      <td>(3370, 13234)</td>\n",
       "      <td>(900, 18855)</td>\n",
       "      <td>(3370, 29800)</td>\n",
       "      <td>(900, 17142)</td>\n",
       "      <td>(900, 2994)</td>\n",
       "      <td>(900, 9677)</td>\n",
       "    </tr>\n",
       "    <tr>\n",
       "      <th>3</th>\n",
       "      <td>(6248, 31933)</td>\n",
       "      <td>(3370, 10795)</td>\n",
       "      <td>(1633, 37167)</td>\n",
       "      <td>(3370, 29351)</td>\n",
       "      <td>(6122, 13709)</td>\n",
       "      <td>(4411, 14710)</td>\n",
       "      <td>(6122, 22633)</td>\n",
       "      <td>(6122, 18151)</td>\n",
       "      <td>(648, 10969)</td>\n",
       "      <td>(3370, 16816)</td>\n",
       "      <td>(900, 27130)</td>\n",
       "      <td>(7328, 11377)</td>\n",
       "      <td>(4939, 2386)</td>\n",
       "      <td>(5560, 4760)</td>\n",
       "    </tr>\n",
       "    <tr>\n",
       "      <th>4</th>\n",
       "      <td>(2555, 29990)</td>\n",
       "      <td>(4464, 6665)</td>\n",
       "      <td>(7399, 25186)</td>\n",
       "      <td>(5296, 23088)</td>\n",
       "      <td>(4939, 13363)</td>\n",
       "      <td>(7399, 10941)</td>\n",
       "      <td>(5598, 19358)</td>\n",
       "      <td>(4939, 16785)</td>\n",
       "      <td>(900, 10720)</td>\n",
       "      <td>(2465, 11405)</td>\n",
       "      <td>(4464, 20844)</td>\n",
       "      <td>(6122, 10604)</td>\n",
       "      <td>(669, 2320)</td>\n",
       "      <td>(4939, 4730)</td>\n",
       "    </tr>\n",
       "    <tr>\n",
       "      <th>5</th>\n",
       "      <td>(5620, 26494)</td>\n",
       "      <td>(2465, 6180)</td>\n",
       "      <td>(6122, 24083)</td>\n",
       "      <td>(4464, 20516)</td>\n",
       "      <td>(913, 12181)</td>\n",
       "      <td>(4893, 9479)</td>\n",
       "      <td>(4893, 18502)</td>\n",
       "      <td>(669, 14215)</td>\n",
       "      <td>(3659, 10305)</td>\n",
       "      <td>(3686, 10564)</td>\n",
       "      <td>(3659, 18607)</td>\n",
       "      <td>(5547, 9346)</td>\n",
       "      <td>(6122, 2046)</td>\n",
       "      <td>(6122, 4581)</td>\n",
       "    </tr>\n",
       "    <tr>\n",
       "      <th>6</th>\n",
       "      <td>(2465, 22398)</td>\n",
       "      <td>(6122, 6120)</td>\n",
       "      <td>(4939, 23920)</td>\n",
       "      <td>(6835, 18565)</td>\n",
       "      <td>(5560, 11654)</td>\n",
       "      <td>(6122, 9154)</td>\n",
       "      <td>(7399, 17224)</td>\n",
       "      <td>(7399, 14148)</td>\n",
       "      <td>(2465, 10133)</td>\n",
       "      <td>(5560, 10294)</td>\n",
       "      <td>(5036, 15108)</td>\n",
       "      <td>(7399, 9299)</td>\n",
       "      <td>(4893, 1963)</td>\n",
       "      <td>(669, 4406)</td>\n",
       "    </tr>\n",
       "    <tr>\n",
       "      <th>7</th>\n",
       "      <td>(6122, 20525)</td>\n",
       "      <td>(7399, 5905)</td>\n",
       "      <td>(4704, 21896)</td>\n",
       "      <td>(3659, 15368)</td>\n",
       "      <td>(7399, 10332)</td>\n",
       "      <td>(4464, 8912)</td>\n",
       "      <td>(3370, 14443)</td>\n",
       "      <td>(4893, 13967)</td>\n",
       "      <td>(6065, 8861)</td>\n",
       "      <td>(4464, 10056)</td>\n",
       "      <td>(6250, 14025)</td>\n",
       "      <td>(4939, 9239)</td>\n",
       "      <td>(4811, 1627)</td>\n",
       "      <td>(4811, 3729)</td>\n",
       "    </tr>\n",
       "    <tr>\n",
       "      <th>8</th>\n",
       "      <td>(5560, 18984)</td>\n",
       "      <td>(3659, 5537)</td>\n",
       "      <td>(1667, 21542)</td>\n",
       "      <td>(6122, 13581)</td>\n",
       "      <td>(4811, 9400)</td>\n",
       "      <td>(2400, 8583)</td>\n",
       "      <td>(4939, 14443)</td>\n",
       "      <td>(803, 13520)</td>\n",
       "      <td>(1667, 6538)</td>\n",
       "      <td>(3523, 9268)</td>\n",
       "      <td>(2465, 11308)</td>\n",
       "      <td>(3370, 8399)</td>\n",
       "      <td>(3864, 1544)</td>\n",
       "      <td>(7539, 3262)</td>\n",
       "    </tr>\n",
       "    <tr>\n",
       "      <th>9</th>\n",
       "      <td>(4939, 17092)</td>\n",
       "      <td>(4939, 5377)</td>\n",
       "      <td>(5598, 20613)</td>\n",
       "      <td>(7399, 13155)</td>\n",
       "      <td>(3961, 9204)</td>\n",
       "      <td>(4853, 8319)</td>\n",
       "      <td>(803, 13685)</td>\n",
       "      <td>(1635, 13499)</td>\n",
       "      <td>(2614, 6417)</td>\n",
       "      <td>(6122, 8808)</td>\n",
       "      <td>(6357, 10963)</td>\n",
       "      <td>(4811, 7273)</td>\n",
       "      <td>(3800, 1470)</td>\n",
       "      <td>(4893, 3142)</td>\n",
       "    </tr>\n",
       "  </tbody>\n",
       "</table>\n",
       "</div>"
      ],
      "text/plain": [
       "              6              0               2              7              8   \\\n",
       "0  (3750, 80967)  (3750, 28173)  (3750, 104241)  (3750, 79684)  (3750, 55894)   \n",
       "1   (648, 60097)   (648, 21557)    (648, 69644)   (648, 47756)   (648, 46268)   \n",
       "2   (900, 38029)   (900, 12896)    (900, 44240)   (900, 34308)   (900, 21074)   \n",
       "3  (6248, 31933)  (3370, 10795)   (1633, 37167)  (3370, 29351)  (6122, 13709)   \n",
       "4  (2555, 29990)   (4464, 6665)   (7399, 25186)  (5296, 23088)  (4939, 13363)   \n",
       "5  (5620, 26494)   (2465, 6180)   (6122, 24083)  (4464, 20516)   (913, 12181)   \n",
       "6  (2465, 22398)   (6122, 6120)   (4939, 23920)  (6835, 18565)  (5560, 11654)   \n",
       "7  (6122, 20525)   (7399, 5905)   (4704, 21896)  (3659, 15368)  (7399, 10332)   \n",
       "8  (5560, 18984)   (3659, 5537)   (1667, 21542)  (6122, 13581)   (4811, 9400)   \n",
       "9  (4939, 17092)   (4939, 5377)   (5598, 20613)  (7399, 13155)   (3961, 9204)   \n",
       "\n",
       "              4               5              3              12             10  \\\n",
       "0  (3750, 45186)  (3750, 101924)  (3750, 74228)  (3750, 26109)  (3750, 44998)   \n",
       "1   (648, 28651)    (648, 46196)   (648, 47502)  (4464, 15645)   (648, 29123)   \n",
       "2   (900, 24059)    (900, 43226)   (900, 28898)  (3370, 13234)   (900, 18855)   \n",
       "3  (4411, 14710)   (6122, 22633)  (6122, 18151)   (648, 10969)  (3370, 16816)   \n",
       "4  (7399, 10941)   (5598, 19358)  (4939, 16785)   (900, 10720)  (2465, 11405)   \n",
       "5   (4893, 9479)   (4893, 18502)   (669, 14215)  (3659, 10305)  (3686, 10564)   \n",
       "6   (6122, 9154)   (7399, 17224)  (7399, 14148)  (2465, 10133)  (5560, 10294)   \n",
       "7   (4464, 8912)   (3370, 14443)  (4893, 13967)   (6065, 8861)  (4464, 10056)   \n",
       "8   (2400, 8583)   (4939, 14443)   (803, 13520)   (1667, 6538)   (3523, 9268)   \n",
       "9   (4853, 8319)    (803, 13685)  (1635, 13499)   (2614, 6417)   (6122, 8808)   \n",
       "\n",
       "              1              9             13             11  \n",
       "0  (3750, 59851)  (3750, 44012)  (3750, 8633)  (3750, 21136)  \n",
       "1   (648, 35598)   (648, 38286)   (648, 6817)   (648, 17444)  \n",
       "2  (3370, 29800)   (900, 17142)   (900, 2994)    (900, 9677)  \n",
       "3   (900, 27130)  (7328, 11377)  (4939, 2386)   (5560, 4760)  \n",
       "4  (4464, 20844)  (6122, 10604)   (669, 2320)   (4939, 4730)  \n",
       "5  (3659, 18607)   (5547, 9346)  (6122, 2046)   (6122, 4581)  \n",
       "6  (5036, 15108)   (7399, 9299)  (4893, 1963)    (669, 4406)  \n",
       "7  (6250, 14025)   (4939, 9239)  (4811, 1627)   (4811, 3729)  \n",
       "8  (2465, 11308)   (3370, 8399)  (3864, 1544)   (7539, 3262)  \n",
       "9  (6357, 10963)   (4811, 7273)  (3800, 1470)   (4893, 3142)  "
      ]
     },
     "execution_count": 39,
     "metadata": {},
     "output_type": "execute_result"
    }
   ],
   "source": [
    "class_word_top10_df = pd.DataFrame(class_text_count)\n",
    "class_word_top10_df "
   ]
  },
  {
   "cell_type": "markdown",
   "metadata": {},
   "source": [
    "#### 6.统计每类新闻中最常见的3元字符对\n",
    "\n",
    "大部分的三元对在每个新闻类别中是不一样的"
   ]
  },
  {
   "cell_type": "code",
   "execution_count": 22,
   "metadata": {
    "ExecuteTime": {
     "end_time": "2020-07-21T09:33:43.675421Z",
     "start_time": "2020-07-21T09:33:32.767877Z"
    }
   },
   "outputs": [],
   "source": [
    "from nltk.util import ngrams"
   ]
  },
  {
   "cell_type": "code",
   "execution_count": 26,
   "metadata": {
    "ExecuteTime": {
     "end_time": "2020-07-21T09:38:27.121836Z",
     "start_time": "2020-07-21T09:38:11.885945Z"
    }
   },
   "outputs": [],
   "source": [
    "class_trigrams = {}\n",
    "for key in class_text_dict:\n",
    "    text_trigrams = [i for i in ngrams(class_text_dict[key].split(' '),3)]\n",
    "    class_trigrams[key] = Counter(text_trigrams).most_common(10)   "
   ]
  },
  {
   "cell_type": "code",
   "execution_count": 40,
   "metadata": {
    "ExecuteTime": {
     "end_time": "2020-07-21T09:44:10.358608Z",
     "start_time": "2020-07-21T09:44:10.284893Z"
    }
   },
   "outputs": [
    {
     "data": {
      "text/html": [
       "<div>\n",
       "<style scoped>\n",
       "    .dataframe tbody tr th:only-of-type {\n",
       "        vertical-align: middle;\n",
       "    }\n",
       "\n",
       "    .dataframe tbody tr th {\n",
       "        vertical-align: top;\n",
       "    }\n",
       "\n",
       "    .dataframe thead th {\n",
       "        text-align: right;\n",
       "    }\n",
       "</style>\n",
       "<table border=\"1\" class=\"dataframe\">\n",
       "  <thead>\n",
       "    <tr style=\"text-align: right;\">\n",
       "      <th></th>\n",
       "      <th>6</th>\n",
       "      <th>0</th>\n",
       "      <th>2</th>\n",
       "      <th>7</th>\n",
       "      <th>8</th>\n",
       "      <th>4</th>\n",
       "      <th>5</th>\n",
       "      <th>3</th>\n",
       "      <th>12</th>\n",
       "      <th>10</th>\n",
       "      <th>1</th>\n",
       "      <th>9</th>\n",
       "      <th>13</th>\n",
       "      <th>11</th>\n",
       "    </tr>\n",
       "  </thead>\n",
       "  <tbody>\n",
       "    <tr>\n",
       "      <th>0</th>\n",
       "      <td>((1633, 1633, 1633), 3709)</td>\n",
       "      <td>((1633, 1633, 1633), 974)</td>\n",
       "      <td>((1633, 1633, 1633), 31193)</td>\n",
       "      <td>((3659, 3370, 3370), 3051)</td>\n",
       "      <td>((2087, 730, 6045), 2288)</td>\n",
       "      <td>((3530, 6508, 3750), 1172)</td>\n",
       "      <td>((3659, 3370, 3370), 2040)</td>\n",
       "      <td>((7495, 2435, 1168), 1243)</td>\n",
       "      <td>((314, 4261, 1667), 770)</td>\n",
       "      <td>((3659, 3370, 3370), 1557)</td>\n",
       "      <td>((1633, 1633, 1633), 4123)</td>\n",
       "      <td>((1633, 1633, 1633), 1488)</td>\n",
       "      <td>((5491, 1580, 2662), 206)</td>\n",
       "      <td>((2899, 1315, 7539), 399)</td>\n",
       "    </tr>\n",
       "    <tr>\n",
       "      <th>1</th>\n",
       "      <td>((3659, 3370, 3370), 1932)</td>\n",
       "      <td>((3659, 3370, 3370), 894)</td>\n",
       "      <td>((1633, 1633, 2465), 2292)</td>\n",
       "      <td>((5296, 151, 2859), 1900)</td>\n",
       "      <td>((1633, 1633, 1633), 1226)</td>\n",
       "      <td>((1702, 3300, 3750), 1170)</td>\n",
       "      <td>((3370, 3370, 2106), 901)</td>\n",
       "      <td>((2435, 1168, 5718), 1243)</td>\n",
       "      <td>((2465, 6065, 6250), 630)</td>\n",
       "      <td>((3370, 3370, 3370), 1546)</td>\n",
       "      <td>((3659, 3370, 3370), 2556)</td>\n",
       "      <td>((648, 7328, 5547), 1076)</td>\n",
       "      <td>((6038, 4231, 648), 192)</td>\n",
       "      <td>((6811, 1580, 7539), 310)</td>\n",
       "    </tr>\n",
       "    <tr>\n",
       "      <th>2</th>\n",
       "      <td>((3659, 3370, 4464), 1805)</td>\n",
       "      <td>((5562, 2828, 4559), 555)</td>\n",
       "      <td>((2614, 4269, 4704), 2159)</td>\n",
       "      <td>((6835, 5296, 151), 1884)</td>\n",
       "      <td>((3750, 1985, 7194), 1081)</td>\n",
       "      <td>((3659, 3370, 3370), 1142)</td>\n",
       "      <td>((7058, 6045, 2465), 900)</td>\n",
       "      <td>((1168, 5718, 134), 1149)</td>\n",
       "      <td>((2614, 4269, 4704), 561)</td>\n",
       "      <td>((3523, 3686, 3374), 1513)</td>\n",
       "      <td>((3370, 3370, 3370), 1602)</td>\n",
       "      <td>((3659, 3370, 4464), 801)</td>\n",
       "      <td>((1264, 2827, 3070), 129)</td>\n",
       "      <td>((900, 6811, 1580), 240)</td>\n",
       "    </tr>\n",
       "    <tr>\n",
       "      <th>3</th>\n",
       "      <td>((2465, 3560, 1258), 1315)</td>\n",
       "      <td>((1702, 3300, 3750), 513)</td>\n",
       "      <td>((6004, 5718, 2986), 1867)</td>\n",
       "      <td>((5096, 2539, 6045), 1870)</td>\n",
       "      <td>((3659, 3370, 3370), 992)</td>\n",
       "      <td>((1518, 1219, 3743), 852)</td>\n",
       "      <td>((3750, 1465, 7194), 890)</td>\n",
       "      <td>((5718, 134, 2465), 1122)</td>\n",
       "      <td>((1633, 1633, 1633), 537)</td>\n",
       "      <td>((1633, 1633, 1633), 1475)</td>\n",
       "      <td>((3659, 3370, 4464), 1584)</td>\n",
       "      <td>((3659, 3370, 3370), 789)</td>\n",
       "      <td>((648, 5445, 1323), 117)</td>\n",
       "      <td>((5491, 6811, 1580), 222)</td>\n",
       "    </tr>\n",
       "    <tr>\n",
       "      <th>4</th>\n",
       "      <td>((648, 2555, 5620), 1266)</td>\n",
       "      <td>((3370, 3370, 3370), 512)</td>\n",
       "      <td>((3659, 3370, 3370), 1745)</td>\n",
       "      <td>((2465, 2465, 2465), 1832)</td>\n",
       "      <td>((3659, 3370, 4464), 829)</td>\n",
       "      <td>((4853, 1407, 2465), 735)</td>\n",
       "      <td>((3750, 7058, 6045), 850)</td>\n",
       "      <td>((5028, 7539, 803), 1111)</td>\n",
       "      <td>((4499, 4641, 7539), 471)</td>\n",
       "      <td>((5176, 2252, 4562), 1453)</td>\n",
       "      <td>((5096, 2539, 6045), 1535)</td>\n",
       "      <td>((7328, 5547, 3750), 743)</td>\n",
       "      <td>((6822, 3800, 2642), 112)</td>\n",
       "      <td>((6811, 1580, 2662), 221)</td>\n",
       "    </tr>\n",
       "    <tr>\n",
       "      <th>5</th>\n",
       "      <td>((3648, 5370, 5620), 1261)</td>\n",
       "      <td>((3659, 3370, 4464), 400)</td>\n",
       "      <td>((648, 4269, 4704), 1695)</td>\n",
       "      <td>((3659, 3370, 4464), 1417)</td>\n",
       "      <td>((6206, 7261, 2282), 717)</td>\n",
       "      <td>((4173, 3366, 6133), 577)</td>\n",
       "      <td>((1702, 3300, 3750), 832)</td>\n",
       "      <td>((3659, 3370, 3370), 943)</td>\n",
       "      <td>((3370, 3370, 6242), 464)</td>\n",
       "      <td>((486, 5858, 6352), 1379)</td>\n",
       "      <td>((3370, 3370, 3700), 1314)</td>\n",
       "      <td>((7328, 5547, 648), 727)</td>\n",
       "      <td>((3750, 3618, 4939), 104)</td>\n",
       "      <td>((6038, 4231, 648), 198)</td>\n",
       "    </tr>\n",
       "    <tr>\n",
       "      <th>6</th>\n",
       "      <td>((3560, 1258, 2119), 1139)</td>\n",
       "      <td>((2087, 730, 6045), 373)</td>\n",
       "      <td>((7495, 2435, 5510), 1660)</td>\n",
       "      <td>((3370, 3370, 3370), 1417)</td>\n",
       "      <td>((648, 3374, 3893), 659)</td>\n",
       "      <td>((3750, 1141, 4411), 550)</td>\n",
       "      <td>((6038, 4231, 648), 829)</td>\n",
       "      <td>((6038, 4231, 648), 922)</td>\n",
       "      <td>((5330, 4704, 2621), 444)</td>\n",
       "      <td>((1633, 1633, 2465), 1168)</td>\n",
       "      <td>((1702, 3300, 3750), 1197)</td>\n",
       "      <td>((7328, 5547, 2400), 672)</td>\n",
       "      <td>((531, 1102, 3070), 98)</td>\n",
       "      <td>((2021, 5620, 1919), 178)</td>\n",
       "    </tr>\n",
       "    <tr>\n",
       "      <th>7</th>\n",
       "      <td>((6038, 4231, 648), 1056)</td>\n",
       "      <td>((3370, 3370, 6242), 352)</td>\n",
       "      <td>((2435, 5510, 296), 1660)</td>\n",
       "      <td>((1702, 3300, 3750), 1365)</td>\n",
       "      <td>((1146, 4180, 5271), 572)</td>\n",
       "      <td>((7495, 1348, 4559), 550)</td>\n",
       "      <td>((3370, 3370, 3370), 825)</td>\n",
       "      <td>((5491, 1580, 2662), 759)</td>\n",
       "      <td>((5006, 4464, 486), 437)</td>\n",
       "      <td>((3370, 3370, 2106), 1122)</td>\n",
       "      <td>((4230, 1141, 2106), 1082)</td>\n",
       "      <td>((3750, 4768, 913), 587)</td>\n",
       "      <td>((36, 3073, 5367), 94)</td>\n",
       "      <td>((3750, 5612, 5948), 169)</td>\n",
       "    </tr>\n",
       "    <tr>\n",
       "      <th>8</th>\n",
       "      <td>((3370, 4464, 3370), 1009)</td>\n",
       "      <td>((4464, 3370, 3370), 349)</td>\n",
       "      <td>((5510, 296, 134), 1490)</td>\n",
       "      <td>((4298, 6835, 5296), 1330)</td>\n",
       "      <td>((3370, 4464, 3370), 558)</td>\n",
       "      <td>((6861, 6654, 1362), 505)</td>\n",
       "      <td>((1247, 2376, 5612), 754)</td>\n",
       "      <td>((1702, 3300, 3750), 654)</td>\n",
       "      <td>((2465, 4499, 4641), 423)</td>\n",
       "      <td>((2106, 4046, 486), 1084)</td>\n",
       "      <td>((3370, 3370, 6104), 911)</td>\n",
       "      <td>((4559, 3464, 7328), 579)</td>\n",
       "      <td>((3073, 5367, 5537), 94)</td>\n",
       "      <td>((3750, 1375, 5948), 164)</td>\n",
       "    </tr>\n",
       "    <tr>\n",
       "      <th>9</th>\n",
       "      <td>((1258, 2119, 2465), 967)</td>\n",
       "      <td>((1018, 1066, 2119), 340)</td>\n",
       "      <td>((4269, 4704, 3750), 1459)</td>\n",
       "      <td>((2106, 4046, 2484), 1231)</td>\n",
       "      <td>((3750, 3618, 4939), 525)</td>\n",
       "      <td>((7023, 5566, 3800), 490)</td>\n",
       "      <td>((900, 3659, 3370), 691)</td>\n",
       "      <td>((3750, 5612, 5948), 628)</td>\n",
       "      <td>((3659, 3370, 3370), 390)</td>\n",
       "      <td>((2729, 5192, 1920), 970)</td>\n",
       "      <td>((3370, 4464, 3370), 892)</td>\n",
       "      <td>((3464, 7328, 5547), 578)</td>\n",
       "      <td>((3019, 3607, 7539), 93)</td>\n",
       "      <td>((648, 6206, 7261), 154)</td>\n",
       "    </tr>\n",
       "  </tbody>\n",
       "</table>\n",
       "</div>"
      ],
      "text/plain": [
       "                           6                          0   \\\n",
       "0  ((1633, 1633, 1633), 3709)  ((1633, 1633, 1633), 974)   \n",
       "1  ((3659, 3370, 3370), 1932)  ((3659, 3370, 3370), 894)   \n",
       "2  ((3659, 3370, 4464), 1805)  ((5562, 2828, 4559), 555)   \n",
       "3  ((2465, 3560, 1258), 1315)  ((1702, 3300, 3750), 513)   \n",
       "4   ((648, 2555, 5620), 1266)  ((3370, 3370, 3370), 512)   \n",
       "5  ((3648, 5370, 5620), 1261)  ((3659, 3370, 4464), 400)   \n",
       "6  ((3560, 1258, 2119), 1139)   ((2087, 730, 6045), 373)   \n",
       "7   ((6038, 4231, 648), 1056)  ((3370, 3370, 6242), 352)   \n",
       "8  ((3370, 4464, 3370), 1009)  ((4464, 3370, 3370), 349)   \n",
       "9   ((1258, 2119, 2465), 967)  ((1018, 1066, 2119), 340)   \n",
       "\n",
       "                            2                           7   \\\n",
       "0  ((1633, 1633, 1633), 31193)  ((3659, 3370, 3370), 3051)   \n",
       "1   ((1633, 1633, 2465), 2292)   ((5296, 151, 2859), 1900)   \n",
       "2   ((2614, 4269, 4704), 2159)   ((6835, 5296, 151), 1884)   \n",
       "3   ((6004, 5718, 2986), 1867)  ((5096, 2539, 6045), 1870)   \n",
       "4   ((3659, 3370, 3370), 1745)  ((2465, 2465, 2465), 1832)   \n",
       "5    ((648, 4269, 4704), 1695)  ((3659, 3370, 4464), 1417)   \n",
       "6   ((7495, 2435, 5510), 1660)  ((3370, 3370, 3370), 1417)   \n",
       "7    ((2435, 5510, 296), 1660)  ((1702, 3300, 3750), 1365)   \n",
       "8     ((5510, 296, 134), 1490)  ((4298, 6835, 5296), 1330)   \n",
       "9   ((4269, 4704, 3750), 1459)  ((2106, 4046, 2484), 1231)   \n",
       "\n",
       "                           8                           4   \\\n",
       "0   ((2087, 730, 6045), 2288)  ((3530, 6508, 3750), 1172)   \n",
       "1  ((1633, 1633, 1633), 1226)  ((1702, 3300, 3750), 1170)   \n",
       "2  ((3750, 1985, 7194), 1081)  ((3659, 3370, 3370), 1142)   \n",
       "3   ((3659, 3370, 3370), 992)   ((1518, 1219, 3743), 852)   \n",
       "4   ((3659, 3370, 4464), 829)   ((4853, 1407, 2465), 735)   \n",
       "5   ((6206, 7261, 2282), 717)   ((4173, 3366, 6133), 577)   \n",
       "6    ((648, 3374, 3893), 659)   ((3750, 1141, 4411), 550)   \n",
       "7   ((1146, 4180, 5271), 572)   ((7495, 1348, 4559), 550)   \n",
       "8   ((3370, 4464, 3370), 558)   ((6861, 6654, 1362), 505)   \n",
       "9   ((3750, 3618, 4939), 525)   ((7023, 5566, 3800), 490)   \n",
       "\n",
       "                           5                           3   \\\n",
       "0  ((3659, 3370, 3370), 2040)  ((7495, 2435, 1168), 1243)   \n",
       "1   ((3370, 3370, 2106), 901)  ((2435, 1168, 5718), 1243)   \n",
       "2   ((7058, 6045, 2465), 900)   ((1168, 5718, 134), 1149)   \n",
       "3   ((3750, 1465, 7194), 890)   ((5718, 134, 2465), 1122)   \n",
       "4   ((3750, 7058, 6045), 850)   ((5028, 7539, 803), 1111)   \n",
       "5   ((1702, 3300, 3750), 832)   ((3659, 3370, 3370), 943)   \n",
       "6    ((6038, 4231, 648), 829)    ((6038, 4231, 648), 922)   \n",
       "7   ((3370, 3370, 3370), 825)   ((5491, 1580, 2662), 759)   \n",
       "8   ((1247, 2376, 5612), 754)   ((1702, 3300, 3750), 654)   \n",
       "9    ((900, 3659, 3370), 691)   ((3750, 5612, 5948), 628)   \n",
       "\n",
       "                          12                          10  \\\n",
       "0   ((314, 4261, 1667), 770)  ((3659, 3370, 3370), 1557)   \n",
       "1  ((2465, 6065, 6250), 630)  ((3370, 3370, 3370), 1546)   \n",
       "2  ((2614, 4269, 4704), 561)  ((3523, 3686, 3374), 1513)   \n",
       "3  ((1633, 1633, 1633), 537)  ((1633, 1633, 1633), 1475)   \n",
       "4  ((4499, 4641, 7539), 471)  ((5176, 2252, 4562), 1453)   \n",
       "5  ((3370, 3370, 6242), 464)   ((486, 5858, 6352), 1379)   \n",
       "6  ((5330, 4704, 2621), 444)  ((1633, 1633, 2465), 1168)   \n",
       "7   ((5006, 4464, 486), 437)  ((3370, 3370, 2106), 1122)   \n",
       "8  ((2465, 4499, 4641), 423)   ((2106, 4046, 486), 1084)   \n",
       "9  ((3659, 3370, 3370), 390)   ((2729, 5192, 1920), 970)   \n",
       "\n",
       "                           1                           9   \\\n",
       "0  ((1633, 1633, 1633), 4123)  ((1633, 1633, 1633), 1488)   \n",
       "1  ((3659, 3370, 3370), 2556)   ((648, 7328, 5547), 1076)   \n",
       "2  ((3370, 3370, 3370), 1602)   ((3659, 3370, 4464), 801)   \n",
       "3  ((3659, 3370, 4464), 1584)   ((3659, 3370, 3370), 789)   \n",
       "4  ((5096, 2539, 6045), 1535)   ((7328, 5547, 3750), 743)   \n",
       "5  ((3370, 3370, 3700), 1314)    ((7328, 5547, 648), 727)   \n",
       "6  ((1702, 3300, 3750), 1197)   ((7328, 5547, 2400), 672)   \n",
       "7  ((4230, 1141, 2106), 1082)    ((3750, 4768, 913), 587)   \n",
       "8   ((3370, 3370, 6104), 911)   ((4559, 3464, 7328), 579)   \n",
       "9   ((3370, 4464, 3370), 892)   ((3464, 7328, 5547), 578)   \n",
       "\n",
       "                          13                         11  \n",
       "0  ((5491, 1580, 2662), 206)  ((2899, 1315, 7539), 399)  \n",
       "1   ((6038, 4231, 648), 192)  ((6811, 1580, 7539), 310)  \n",
       "2  ((1264, 2827, 3070), 129)   ((900, 6811, 1580), 240)  \n",
       "3   ((648, 5445, 1323), 117)  ((5491, 6811, 1580), 222)  \n",
       "4  ((6822, 3800, 2642), 112)  ((6811, 1580, 2662), 221)  \n",
       "5  ((3750, 3618, 4939), 104)   ((6038, 4231, 648), 198)  \n",
       "6    ((531, 1102, 3070), 98)  ((2021, 5620, 1919), 178)  \n",
       "7     ((36, 3073, 5367), 94)  ((3750, 5612, 5948), 169)  \n",
       "8   ((3073, 5367, 5537), 94)  ((3750, 1375, 5948), 164)  \n",
       "9   ((3019, 3607, 7539), 93)   ((648, 6206, 7261), 154)  "
      ]
     },
     "execution_count": 40,
     "metadata": {},
     "output_type": "execute_result"
    }
   ],
   "source": [
    "class_trigrams_top10_df = pd.DataFrame(class_trigrams)\n",
    "class_trigrams_top10_df "
   ]
  },
  {
   "cell_type": "markdown",
   "metadata": {
    "colab_type": "text",
    "id": "7E7LeUrUcm2l"
   },
   "source": [
    "#### 总结\n",
    "数据分析利于我们发现一些规律，对特征工程部份有利。\n",
    "\n",
    "- 1.类别不均衡问题需要克服\n",
    "- 2.新闻文本的长度 长尾\n",
    "- 3.每类新闻中最常见的字符和三元对是不一样的，能够作为有区分度的特征。但是需要先去除停用词。\n",
    "- 4.由于字符加密，可能不能使用预训练模型，需要使用可训练的词向量模型。"
   ]
  },
  {
   "cell_type": "code",
   "execution_count": null,
   "metadata": {
    "colab": {},
    "colab_type": "code",
    "id": "S3xQ9PoecmBu"
   },
   "outputs": [],
   "source": []
  },
  {
   "cell_type": "code",
   "execution_count": 23,
   "metadata": {
    "colab": {},
    "colab_type": "code",
    "id": "bax0UgoTZozb"
   },
   "outputs": [],
   "source": []
  }
 ],
 "metadata": {
  "colab": {
   "name": "Untitled0.ipynb",
   "provenance": []
  },
  "kernelspec": {
   "display_name": "Python 3",
   "language": "python",
   "name": "python3"
  },
  "language_info": {
   "codemirror_mode": {
    "name": "ipython",
    "version": 3
   },
   "file_extension": ".py",
   "mimetype": "text/x-python",
   "name": "python",
   "nbconvert_exporter": "python",
   "pygments_lexer": "ipython3",
   "version": "3.7.1"
  },
  "toc": {
   "base_numbering": 1,
   "nav_menu": {},
   "number_sections": true,
   "sideBar": true,
   "skip_h1_title": false,
   "title_cell": "Table of Contents",
   "title_sidebar": "Contents",
   "toc_cell": false,
   "toc_position": {},
   "toc_section_display": true,
   "toc_window_display": true
  }
 },
 "nbformat": 4,
 "nbformat_minor": 1
}
